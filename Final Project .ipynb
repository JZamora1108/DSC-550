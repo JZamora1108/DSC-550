{
 "cells": [
  {
   "cell_type": "code",
   "execution_count": 1,
   "id": "a4c7cca5",
   "metadata": {},
   "outputs": [],
   "source": [
    "import sys\n",
    "import os\n",
    "import sqlite3\n",
    "import pandas as pd"
   ]
  },
  {
   "cell_type": "code",
   "execution_count": 2,
   "id": "dcaef722",
   "metadata": {},
   "outputs": [
    {
     "name": "stdout",
     "output_type": "stream",
     "text": [
      "<module 'os' from 'C:\\\\Users\\\\14029\\\\anaconda3\\\\lib\\\\os.py'>\n"
     ]
    }
   ],
   "source": [
    "print(os)"
   ]
  },
  {
   "cell_type": "code",
   "execution_count": 8,
   "id": "92d324a3",
   "metadata": {},
   "outputs": [
    {
     "data": {
      "text/html": [
       "<div>\n",
       "<style scoped>\n",
       "    .dataframe tbody tr th:only-of-type {\n",
       "        vertical-align: middle;\n",
       "    }\n",
       "\n",
       "    .dataframe tbody tr th {\n",
       "        vertical-align: top;\n",
       "    }\n",
       "\n",
       "    .dataframe thead th {\n",
       "        text-align: right;\n",
       "    }\n",
       "</style>\n",
       "<table border=\"1\" class=\"dataframe\">\n",
       "  <thead>\n",
       "    <tr style=\"text-align: right;\">\n",
       "      <th></th>\n",
       "      <th>Rank</th>\n",
       "      <th>Leader</th>\n",
       "      <th>Avg.</th>\n",
       "    </tr>\n",
       "  </thead>\n",
       "  <tbody>\n",
       "    <tr>\n",
       "      <th>0</th>\n",
       "      <td>1</td>\n",
       "      <td>Cameron Young</td>\n",
       "      <td>329.7</td>\n",
       "    </tr>\n",
       "    <tr>\n",
       "      <th>1</th>\n",
       "      <td>2</td>\n",
       "      <td>Byeong Hun An</td>\n",
       "      <td>322.4</td>\n",
       "    </tr>\n",
       "    <tr>\n",
       "      <th>2</th>\n",
       "      <td>3</td>\n",
       "      <td>Xander Schauffele</td>\n",
       "      <td>322.1</td>\n",
       "    </tr>\n",
       "    <tr>\n",
       "      <th>3</th>\n",
       "      <td>4</td>\n",
       "      <td>Joseph Bramlett</td>\n",
       "      <td>321.3</td>\n",
       "    </tr>\n",
       "    <tr>\n",
       "      <th>4</th>\n",
       "      <td>5</td>\n",
       "      <td>Rory McIlroy</td>\n",
       "      <td>321.1</td>\n",
       "    </tr>\n",
       "    <tr>\n",
       "      <th>5</th>\n",
       "      <td>Tour Average</td>\n",
       "      <td>Tour Average</td>\n",
       "      <td>296.7</td>\n",
       "    </tr>\n",
       "  </tbody>\n",
       "</table>\n",
       "</div>"
      ],
      "text/plain": [
       "           Rank             Leader   Avg.\n",
       "0             1      Cameron Young  329.7\n",
       "1             2      Byeong Hun An  322.4\n",
       "2             3  Xander Schauffele  322.1\n",
       "3             4    Joseph Bramlett  321.3\n",
       "4             5       Rory McIlroy  321.1\n",
       "5  Tour Average       Tour Average  296.7"
      ]
     },
     "execution_count": 8,
     "metadata": {},
     "output_type": "execute_result"
    }
   ],
   "source": [
    "##Pull in URL data base\n",
    "url = 'https://www.pgatour.com/stats.html'\n",
    "##Reading in the HTML webpage\n",
    "df1 = pd.read_html(url, header = 0)\n",
    "##printing off driving table\n",
    "df1[5]"
   ]
  },
  {
   "cell_type": "code",
   "execution_count": 9,
   "id": "9b618e5b",
   "metadata": {},
   "outputs": [],
   "source": [
    "dfdriveavg = df1[5]"
   ]
  },
  {
   "cell_type": "code",
   "execution_count": null,
   "id": "adc49cb9",
   "metadata": {},
   "outputs": [],
   "source": [
    "##printing off putting table"
   ]
  },
  {
   "cell_type": "code",
   "execution_count": 10,
   "id": "6605c64b",
   "metadata": {},
   "outputs": [
    {
     "data": {
      "text/html": [
       "<div>\n",
       "<style scoped>\n",
       "    .dataframe tbody tr th:only-of-type {\n",
       "        vertical-align: middle;\n",
       "    }\n",
       "\n",
       "    .dataframe tbody tr th {\n",
       "        vertical-align: top;\n",
       "    }\n",
       "\n",
       "    .dataframe thead th {\n",
       "        text-align: right;\n",
       "    }\n",
       "</style>\n",
       "<table border=\"1\" class=\"dataframe\">\n",
       "  <thead>\n",
       "    <tr style=\"text-align: right;\">\n",
       "      <th></th>\n",
       "      <th>Rank</th>\n",
       "      <th>Leader</th>\n",
       "      <th>Average</th>\n",
       "    </tr>\n",
       "  </thead>\n",
       "  <tbody>\n",
       "    <tr>\n",
       "      <th>0</th>\n",
       "      <td>1</td>\n",
       "      <td>Beau Hossler</td>\n",
       "      <td>2.345</td>\n",
       "    </tr>\n",
       "    <tr>\n",
       "      <th>1</th>\n",
       "      <td>2</td>\n",
       "      <td>Rory McIlroy</td>\n",
       "      <td>1.504</td>\n",
       "    </tr>\n",
       "    <tr>\n",
       "      <th>2</th>\n",
       "      <td>3</td>\n",
       "      <td>Harry Hall</td>\n",
       "      <td>1.329</td>\n",
       "    </tr>\n",
       "    <tr>\n",
       "      <th>3</th>\n",
       "      <td>4</td>\n",
       "      <td>Brendon Todd</td>\n",
       "      <td>1.319</td>\n",
       "    </tr>\n",
       "    <tr>\n",
       "      <th>4</th>\n",
       "      <td>5</td>\n",
       "      <td>Grant Hirschman</td>\n",
       "      <td>1.226</td>\n",
       "    </tr>\n",
       "    <tr>\n",
       "      <th>5</th>\n",
       "      <td>Tour Average</td>\n",
       "      <td>Tour Average</td>\n",
       "      <td>NaN</td>\n",
       "    </tr>\n",
       "  </tbody>\n",
       "</table>\n",
       "</div>"
      ],
      "text/plain": [
       "           Rank           Leader  Average\n",
       "0             1     Beau Hossler    2.345\n",
       "1             2     Rory McIlroy    1.504\n",
       "2             3       Harry Hall    1.329\n",
       "3             4     Brendon Todd    1.319\n",
       "4             5  Grant Hirschman    1.226\n",
       "5  Tour Average     Tour Average      NaN"
      ]
     },
     "execution_count": 10,
     "metadata": {},
     "output_type": "execute_result"
    }
   ],
   "source": [
    "df1[10]"
   ]
  },
  {
   "cell_type": "code",
   "execution_count": null,
   "id": "71e0aa93",
   "metadata": {},
   "outputs": [],
   "source": [
    "dfputtavg = df1[10]"
   ]
  },
  {
   "cell_type": "code",
   "execution_count": 51,
   "id": "a7723add",
   "metadata": {},
   "outputs": [
    {
     "data": {
      "text/html": [
       "<div>\n",
       "<style scoped>\n",
       "    .dataframe tbody tr th:only-of-type {\n",
       "        vertical-align: middle;\n",
       "    }\n",
       "\n",
       "    .dataframe tbody tr th {\n",
       "        vertical-align: top;\n",
       "    }\n",
       "\n",
       "    .dataframe thead th {\n",
       "        text-align: right;\n",
       "    }\n",
       "</style>\n",
       "<table border=\"1\" class=\"dataframe\">\n",
       "  <thead>\n",
       "    <tr style=\"text-align: right;\">\n",
       "      <th></th>\n",
       "      <th>PLAYER_NAME</th>\n",
       "      <th>FINISHES_OFFICIAL_MONEY</th>\n",
       "      <th>FINISHES_TOP10</th>\n",
       "      <th>TEE_AVG_DRIVING_DISTANCE</th>\n",
       "      <th>PUTTING_AVG_OVERALL</th>\n",
       "    </tr>\n",
       "  </thead>\n",
       "  <tbody>\n",
       "    <tr>\n",
       "      <th>0</th>\n",
       "      <td>Zac Blair</td>\n",
       "      <td>$745,273</td>\n",
       "      <td>1.0</td>\n",
       "      <td>280.9</td>\n",
       "      <td>1.589</td>\n",
       "    </tr>\n",
       "    <tr>\n",
       "      <th>1</th>\n",
       "      <td>Jimmy Walker</td>\n",
       "      <td>$243,370</td>\n",
       "      <td>NaN</td>\n",
       "      <td>298.0</td>\n",
       "      <td>1.627</td>\n",
       "    </tr>\n",
       "    <tr>\n",
       "      <th>2</th>\n",
       "      <td>Cameron Percy</td>\n",
       "      <td>$470,679</td>\n",
       "      <td>1.0</td>\n",
       "      <td>295.0</td>\n",
       "      <td>1.638</td>\n",
       "    </tr>\n",
       "    <tr>\n",
       "      <th>3</th>\n",
       "      <td>Sebastian Cappelen</td>\n",
       "      <td>$371,482</td>\n",
       "      <td>1.0</td>\n",
       "      <td>303.7</td>\n",
       "      <td>1.609</td>\n",
       "    </tr>\n",
       "    <tr>\n",
       "      <th>4</th>\n",
       "      <td>Brian Gay</td>\n",
       "      <td>$702,647</td>\n",
       "      <td>2.0</td>\n",
       "      <td>288.5</td>\n",
       "      <td>1.586</td>\n",
       "    </tr>\n",
       "    <tr>\n",
       "      <th>5</th>\n",
       "      <td>Ted Potter, Jr.</td>\n",
       "      <td>$361,540</td>\n",
       "      <td>2.0</td>\n",
       "      <td>290.2</td>\n",
       "      <td>1.646</td>\n",
       "    </tr>\n",
       "    <tr>\n",
       "      <th>6</th>\n",
       "      <td>Arjun Atwal</td>\n",
       "      <td>$63,252</td>\n",
       "      <td>NaN</td>\n",
       "      <td>286.5</td>\n",
       "      <td>1.638</td>\n",
       "    </tr>\n",
       "    <tr>\n",
       "      <th>7</th>\n",
       "      <td>Vaughn Taylor</td>\n",
       "      <td>$1,148,779</td>\n",
       "      <td>2.0</td>\n",
       "      <td>281.6</td>\n",
       "      <td>1.562</td>\n",
       "    </tr>\n",
       "    <tr>\n",
       "      <th>8</th>\n",
       "      <td>Jason Dufner</td>\n",
       "      <td>$306,781</td>\n",
       "      <td>NaN</td>\n",
       "      <td>286.2</td>\n",
       "      <td>1.645</td>\n",
       "    </tr>\n",
       "    <tr>\n",
       "      <th>9</th>\n",
       "      <td>Roger Sloan</td>\n",
       "      <td>$253,597</td>\n",
       "      <td>NaN</td>\n",
       "      <td>291.5</td>\n",
       "      <td>1.607</td>\n",
       "    </tr>\n",
       "  </tbody>\n",
       "</table>\n",
       "</div>"
      ],
      "text/plain": [
       "          PLAYER_NAME FINISHES_OFFICIAL_MONEY  FINISHES_TOP10  \\\n",
       "0           Zac Blair               $745,273              1.0   \n",
       "1        Jimmy Walker               $243,370              NaN   \n",
       "2       Cameron Percy               $470,679              1.0   \n",
       "3  Sebastian Cappelen               $371,482              1.0   \n",
       "4           Brian Gay               $702,647              2.0   \n",
       "5     Ted Potter, Jr.               $361,540              2.0   \n",
       "6         Arjun Atwal                $63,252              NaN   \n",
       "7       Vaughn Taylor             $1,148,779              2.0   \n",
       "8        Jason Dufner               $306,781              NaN   \n",
       "9         Roger Sloan               $253,597              NaN   \n",
       "\n",
       "   TEE_AVG_DRIVING_DISTANCE  PUTTING_AVG_OVERALL  \n",
       "0                     280.9                1.589  \n",
       "1                     298.0                1.627  \n",
       "2                     295.0                1.638  \n",
       "3                     303.7                1.609  \n",
       "4                     288.5                1.586  \n",
       "5                     290.2                1.646  \n",
       "6                     286.5                1.638  \n",
       "7                     281.6                1.562  \n",
       "8                     286.2                1.645  \n",
       "9                     291.5                1.607  "
      ]
     },
     "execution_count": 51,
     "metadata": {},
     "output_type": "execute_result"
    }
   ],
   "source": [
    "##pull in CSV \n",
    "df2 = pd.read_csv(\"pga_tour_stats_2020v2.csv\")\n",
    "df2.head(10)"
   ]
  },
  {
   "cell_type": "code",
   "execution_count": 53,
   "id": "5ceb96e4",
   "metadata": {},
   "outputs": [
    {
     "name": "stdout",
     "output_type": "stream",
     "text": [
      "            PLAYER_NAME  FINISHES_TOP10 FINISHES_OFFICIAL_MONEY  \\\n",
      "0             Zac Blair             1.0               $745,273    \n",
      "1          Jimmy Walker             NaN               $243,370    \n",
      "2         Cameron Percy             1.0               $470,679    \n",
      "3    Sebastian Cappelen             1.0               $371,482    \n",
      "4             Brian Gay             2.0               $702,647    \n",
      "..                  ...             ...                     ...   \n",
      "352    Patrick Fishburn             NaN                     NaN   \n",
      "353       Chip McDaniel             NaN                     NaN   \n",
      "354        Roberto Díaz             NaN                     NaN   \n",
      "355         Peter Kuest             NaN                     NaN   \n",
      "356          Jay McLuen             NaN                     NaN   \n",
      "\n",
      "     TEE_AVG_DRIVING_DISTANCE  PUTTING_AVG_OVERALL  \n",
      "0                       280.9                1.589  \n",
      "1                       298.0                1.627  \n",
      "2                       295.0                1.638  \n",
      "3                       303.7                1.609  \n",
      "4                       288.5                1.586  \n",
      "..                        ...                  ...  \n",
      "352                       NaN                  NaN  \n",
      "353                       NaN                  NaN  \n",
      "354                       NaN                  NaN  \n",
      "355                       NaN                  NaN  \n",
      "356                       NaN                  NaN  \n",
      "\n",
      "[357 rows x 5 columns]\n"
     ]
    }
   ],
   "source": [
    "##Show specific columns in relation to driving, putting, top 10 finishes and money earned\n",
    "##Trimming data columns down to only show these 5 columns as I do not care about any of the other columns...\n",
    "##...in relation to my hypothesis of 'do the top drivers or the top putters make the most money'\n",
    "print(df2[['PLAYER_NAME','FINISHES_TOP10','FINISHES_OFFICIAL_MONEY','TEE_AVG_DRIVING_DISTANCE','PUTTING_AVG_OVERALL']])"
   ]
  },
  {
   "cell_type": "code",
   "execution_count": 54,
   "id": "d3968ad5",
   "metadata": {},
   "outputs": [
    {
     "data": {
      "text/plain": [
       "array([[<AxesSubplot:title={'center':'FINISHES_TOP10'}>,\n",
       "        <AxesSubplot:title={'center':'TEE_AVG_DRIVING_DISTANCE'}>],\n",
       "       [<AxesSubplot:title={'center':'PUTTING_AVG_OVERALL'}>,\n",
       "        <AxesSubplot:>]], dtype=object)"
      ]
     },
     "execution_count": 54,
     "metadata": {},
     "output_type": "execute_result"
    },
    {
     "data": {
      "image/png": "[encoded data removed]",
      "text/plain": [
       "<Figure size 432x288 with 4 Axes>"
      ]
     },
     "metadata": {
      "needs_background": "light"
     },
     "output_type": "display_data"
    }
   ],
   "source": [
    "##Create visualizations to validate machine learning techniques\n",
    "df2.hist(['FINISHES_TOP10','FINISHES_OFFICIAL_MONEY','TEE_AVG_DRIVING_DISTANCE','PUTTING_AVG_OVERALL'])"
   ]
  },
  {
   "cell_type": "code",
   "execution_count": 29,
   "id": "201df81b",
   "metadata": {},
   "outputs": [],
   "source": [
    "##view distributions for potential machine learning candidates\n",
    "##Distribution graphs to help assist in visualization of which columns are necessary and why certain columns were trimmed\n",
    "def plotPerColumnDistribution(df, nGraphShown, nGraphPerRow):\n",
    "    nunique = df.nunique()\n",
    "    df = df[[col for col in df if nunique[col] > 1 and nunique[col] < 50]]##Display presentation between 1 & 50\n",
    "    nRow, nCol = df.shape\n",
    "    columnNames = list(df)\n",
    "    nGraphRow = (nCol + nGraphPerRow - 1) / nGraphPerRow\n",
    "    plt.figure(num = None, figsize = (6 * nGraphPerRow, 8 * nGraphRow), dpi = 80, facecolor = 'w', edgecolor = 'k')\n",
    "    for i in range(min(nCol, nGraphShown)):\n",
    "        plt.subplot(nGraphRow, nGraphPerRow, i + 1)\n",
    "        columnDf = df.iloc[:, i]\n",
    "        if (not np.issubdtype(type(columnDf.iloc[0]), np.number)):\n",
    "            valueCounts = columnDf.value_counts()\n",
    "            valueCounts.plot.bar()\n",
    "        else:\n",
    "            columnDf.hist()\n",
    "        plt.ylabel('counts')\n",
    "        plt.xticks(rotation = 90)\n",
    "        plt.title(f'{columnNames[i]} (column {i})')\n",
    "    plt.tight_layout(pad = 1.0, w_pad = 1.0, h_pad = 1.0)\n",
    "plt.show()"
   ]
  },
  {
   "cell_type": "code",
   "execution_count": 31,
   "id": "ca8b5adb",
   "metadata": {},
   "outputs": [
    {
     "name": "stderr",
     "output_type": "stream",
     "text": [
      "C:\\Users\\14029\\AppData\\Local\\Temp/ipykernel_16940/3905526784.py:11: MatplotlibDeprecationWarning: Passing non-integers as three-element position specification is deprecated since 3.3 and will be removed two minor releases later.\n",
      "  plt.subplot(nGraphRow, nGraphPerRow, i + 1)\n",
      "C:\\Users\\14029\\AppData\\Local\\Temp/ipykernel_16940/3905526784.py:11: MatplotlibDeprecationWarning: Passing non-integers as three-element position specification is deprecated since 3.3 and will be removed two minor releases later.\n",
      "  plt.subplot(nGraphRow, nGraphPerRow, i + 1)\n",
      "C:\\Users\\14029\\AppData\\Local\\Temp/ipykernel_16940/3905526784.py:11: MatplotlibDeprecationWarning: Passing non-integers as three-element position specification is deprecated since 3.3 and will be removed two minor releases later.\n",
      "  plt.subplot(nGraphRow, nGraphPerRow, i + 1)\n"
     ]
    },
    {
     "data": {
      "image/png": "[encoded data removed]",
      "text/plain": [
       "<Figure size 2400x2432 with 10 Axes>"
      ]
     },
     "metadata": {},
     "output_type": "display_data"
    }
   ],
   "source": [
    "plotPerColumnDistribution(df2, 10, 5)"
   ]
  },
  {
   "cell_type": "code",
   "execution_count": 16,
   "id": "ef52209b",
   "metadata": {},
   "outputs": [
    {
     "data": {
      "text/plain": [
       "<matplotlib.collections.PathCollection at 0x1af778b21c0>"
      ]
     },
     "execution_count": 16,
     "metadata": {},
     "output_type": "execute_result"
    },
    {
     "data": {
      "image/png": "[encoded data removed]",
      "text/plain": [
       "<Figure size 432x288 with 1 Axes>"
      ]
     },
     "metadata": {
      "needs_background": "light"
     },
     "output_type": "display_data"
    }
   ],
   "source": [
    "##Import visulization packages\n",
    "import matplotlib.pyplot as plt\n",
    "\n",
    "##Set up figsize\n",
    "%matplotlib inline\n",
    "plt.rcParams['figure.figsize'] = (20, 10)\n",
    "\n",
    "##set up linea regression for driving and putting\n",
    "import numpy as np\n",
    "from sklearn import linear_model\n",
    "%matplotlib inline\n",
    "##Linear regression formual is y = mx+b\n",
    "##Avg drive 296.3687500000001\n",
    "\n",
    "##set up data for viewing\n",
    "plt.xlabel('TEE_AVG_DRIVING_DISTANCE')\n",
    "plt.ylabel('FINISHES_TOP10')\n",
    "plt.scatter(df2.TEE_AVG_DRIVING_DISTANCE, df2.FINISHES_TOP10, color='red', marker='+')"
   ]
  },
  {
   "cell_type": "code",
   "execution_count": 17,
   "id": "d2a0508c",
   "metadata": {},
   "outputs": [
    {
     "data": {
      "text/plain": [
       "LinearRegression()"
      ]
     },
     "execution_count": 17,
     "metadata": {},
     "output_type": "execute_result"
    }
   ],
   "source": [
    "##Train linear model\n",
    "df2.replace([np.inf, -np.inf], np.nan, inplace=True)\n",
    "df2.fillna(999, inplace=True)\n",
    "reg = linear_model.LinearRegression()\n",
    "reg.fit(df2[['FINISHES_TOP10']],df2.TEE_AVG_DRIVING_DISTANCE)"
   ]
  },
  {
   "cell_type": "code",
   "execution_count": 18,
   "id": "eca73a59",
   "metadata": {},
   "outputs": [
    {
     "data": {
      "text/plain": [
       "array([0.48807056])"
      ]
     },
     "execution_count": 18,
     "metadata": {},
     "output_type": "execute_result"
    }
   ],
   "source": [
    "##Value of M or top 10 finishes \n",
    "reg.coef_"
   ]
  },
  {
   "cell_type": "code",
   "execution_count": 19,
   "id": "271aa1b7",
   "metadata": {},
   "outputs": [
    {
     "data": {
      "text/plain": [
       "343.19739404241653"
      ]
     },
     "execution_count": 19,
     "metadata": {},
     "output_type": "execute_result"
    }
   ],
   "source": [
    "##Value of B or average top 10 driving distance\n",
    "reg.intercept_"
   ]
  },
  {
   "cell_type": "code",
   "execution_count": 20,
   "id": "2a50af87",
   "metadata": {},
   "outputs": [],
   "source": [
    "##The top 10 drivers avg a distance of 343.19 yards off the tee"
   ]
  },
  {
   "cell_type": "code",
   "execution_count": 55,
   "id": "c3391680",
   "metadata": {},
   "outputs": [
    {
     "name": "stdout",
     "output_type": "stream",
     "text": [
      "           Rank             Leader   Avg.\n",
      "0             1      Cameron Young  329.7\n",
      "1             2      Byeong Hun An  322.4\n",
      "2             3  Xander Schauffele  322.1\n",
      "3             4    Joseph Bramlett  321.3\n",
      "4             5       Rory McIlroy  321.1\n",
      "5  Tour Average       Tour Average  296.7\n"
     ]
    }
   ],
   "source": [
    "##create table from both databases to see if driving distance is comparable between sources\n",
    "print(dfdriveavg)"
   ]
  },
  {
   "cell_type": "code",
   "execution_count": 26,
   "id": "ce373465",
   "metadata": {},
   "outputs": [
    {
     "data": {
      "text/plain": [
       "323.32"
      ]
     },
     "execution_count": 26,
     "metadata": {},
     "output_type": "execute_result"
    }
   ],
   "source": [
    "np.mean([329.7, 322.4, 322.1, 321.3, 321.1])"
   ]
  },
  {
   "cell_type": "code",
   "execution_count": 28,
   "id": "d2292329",
   "metadata": {},
   "outputs": [
    {
     "data": {
      "text/plain": [
       "333.255"
      ]
     },
     "execution_count": 28,
     "metadata": {},
     "output_type": "execute_result"
    }
   ],
   "source": [
    "##view avg diff and create a cumulative avg from URL and CSV files\n",
    "##avg drive between both URL and csv files 333.255\n",
    "np.mean([343.19, 323.32])"
   ]
  },
  {
   "cell_type": "code",
   "execution_count": 32,
   "id": "c4441134",
   "metadata": {},
   "outputs": [
    {
     "data": {
      "text/plain": [
       "<matplotlib.collections.PathCollection at 0x1af110c08b0>"
      ]
     },
     "execution_count": 32,
     "metadata": {},
     "output_type": "execute_result"
    },
    {
     "data": {
      "image/png": "[encoded data removed]",
      "text/plain": [
       "<Figure size 432x288 with 1 Axes>"
      ]
     },
     "metadata": {
      "needs_background": "light"
     },
     "output_type": "display_data"
    }
   ],
   "source": [
    "##setting up linear regression for putting analysis\n",
    "import numpy as np\n",
    "from sklearn import linear_model\n",
    "%matplotlib inline\n",
    "##Linear regression formual is y = mx+b\n",
    "##Avg drive 296.3687500000001\n",
    "\n",
    "##set up data for viewing\n",
    "plt.xlabel('PUTTING_AVG_OVERALL')\n",
    "plt.ylabel('FINISHES_TOP10')\n",
    "plt.scatter(df2.PUTTING_AVG_OVERALL, df2.FINISHES_TOP10, color='red', marker='+')"
   ]
  },
  {
   "cell_type": "code",
   "execution_count": 34,
   "id": "27e41c5a",
   "metadata": {},
   "outputs": [
    {
     "data": {
      "text/plain": [
       "LinearRegression()"
      ]
     },
     "execution_count": 34,
     "metadata": {},
     "output_type": "execute_result"
    }
   ],
   "source": [
    "##training linear model \n",
    "##data set not really equipped for linear regression for putting avg will need to find better model to use \n",
    "df2.replace([np.inf, -np.inf], np.nan, inplace=True)\n",
    "df2.fillna(999, inplace=True)\n",
    "reg = linear_model.LinearRegression()\n",
    "reg.fit(df2[['FINISHES_TOP10']],df2.PUTTING_AVG_OVERALL)"
   ]
  },
  {
   "cell_type": "code",
   "execution_count": 35,
   "id": "94caf526",
   "metadata": {},
   "outputs": [
    {
     "data": {
      "text/plain": [
       "array([0.69372458])"
      ]
     },
     "execution_count": 35,
     "metadata": {},
     "output_type": "execute_result"
    }
   ],
   "source": [
    "##Value of M or top 10 finishes \n",
    "reg.coef_"
   ]
  },
  {
   "cell_type": "code",
   "execution_count": 37,
   "id": "638e32f2",
   "metadata": {},
   "outputs": [
    {
     "data": {
      "text/plain": [
       "67.62700344940691"
      ]
     },
     "execution_count": 37,
     "metadata": {},
     "output_type": "execute_result"
    }
   ],
   "source": [
    "##Value of B or PUTTING_AVG_OVERALL\n",
    "reg.intercept_"
   ]
  },
  {
   "cell_type": "code",
   "execution_count": 57,
   "id": "79d5667b",
   "metadata": {},
   "outputs": [
    {
     "name": "stdout",
     "output_type": "stream",
     "text": [
      "          PLAYER_NAME  FINISHES_TOP10 FINISHES_OFFICIAL_MONEY  \\\n",
      "0           Zac Blair             1.0               $745,273    \n",
      "1        Jimmy Walker             NaN               $243,370    \n",
      "2       Cameron Percy             1.0               $470,679    \n",
      "3  Sebastian Cappelen             1.0               $371,482    \n",
      "4           Brian Gay             2.0               $702,647    \n",
      "5     Ted Potter, Jr.             2.0               $361,540    \n",
      "6         Arjun Atwal             NaN                $63,252    \n",
      "7       Vaughn Taylor             2.0             $1,148,779    \n",
      "8        Jason Dufner             NaN               $306,781    \n",
      "9         Roger Sloan             NaN               $253,597    \n",
      "\n",
      "   TEE_AVG_DRIVING_DISTANCE  PUTTING_AVG_OVERALL  \n",
      "0                     280.9                1.589  \n",
      "1                     298.0                1.627  \n",
      "2                     295.0                1.638  \n",
      "3                     303.7                1.609  \n",
      "4                     288.5                1.586  \n",
      "5                     290.2                1.646  \n",
      "6                     286.5                1.638  \n",
      "7                     281.6                1.562  \n",
      "8                     286.2                1.645  \n",
      "9                     291.5                1.607  \n"
     ]
    }
   ],
   "source": [
    "print(df2.head(10)[['PLAYER_NAME','FINISHES_TOP10','FINISHES_OFFICIAL_MONEY','TEE_AVG_DRIVING_DISTANCE','PUTTING_AVG_OVERALL']])"
   ]
  },
  {
   "cell_type": "code",
   "execution_count": 60,
   "id": "e57440c8",
   "metadata": {},
   "outputs": [
    {
     "data": {
      "text/html": [
       "<div>\n",
       "<style scoped>\n",
       "    .dataframe tbody tr th:only-of-type {\n",
       "        vertical-align: middle;\n",
       "    }\n",
       "\n",
       "    .dataframe tbody tr th {\n",
       "        vertical-align: top;\n",
       "    }\n",
       "\n",
       "    .dataframe thead th {\n",
       "        text-align: right;\n",
       "    }\n",
       "</style>\n",
       "<table border=\"1\" class=\"dataframe\">\n",
       "  <thead>\n",
       "    <tr style=\"text-align: right;\">\n",
       "      <th></th>\n",
       "      <th>PLAYER_NAME</th>\n",
       "      <th>FINISHES_OFFICIAL_MONEY</th>\n",
       "      <th>FINISHES_TOP10</th>\n",
       "      <th>TEE_AVG_DRIVING_DISTANCE</th>\n",
       "      <th>PUTTING_AVG_OVERALL</th>\n",
       "    </tr>\n",
       "  </thead>\n",
       "  <tbody>\n",
       "    <tr>\n",
       "      <th>7</th>\n",
       "      <td>Vaughn Taylor</td>\n",
       "      <td>$1,148,779</td>\n",
       "      <td>2.0</td>\n",
       "      <td>281.6</td>\n",
       "      <td>1.562</td>\n",
       "    </tr>\n",
       "    <tr>\n",
       "      <th>1</th>\n",
       "      <td>Jimmy Walker</td>\n",
       "      <td>$243,370</td>\n",
       "      <td>NaN</td>\n",
       "      <td>298.0</td>\n",
       "      <td>1.627</td>\n",
       "    </tr>\n",
       "    <tr>\n",
       "      <th>9</th>\n",
       "      <td>Roger Sloan</td>\n",
       "      <td>$253,597</td>\n",
       "      <td>NaN</td>\n",
       "      <td>291.5</td>\n",
       "      <td>1.607</td>\n",
       "    </tr>\n",
       "    <tr>\n",
       "      <th>8</th>\n",
       "      <td>Jason Dufner</td>\n",
       "      <td>$306,781</td>\n",
       "      <td>NaN</td>\n",
       "      <td>286.2</td>\n",
       "      <td>1.645</td>\n",
       "    </tr>\n",
       "    <tr>\n",
       "      <th>5</th>\n",
       "      <td>Ted Potter, Jr.</td>\n",
       "      <td>$361,540</td>\n",
       "      <td>2.0</td>\n",
       "      <td>290.2</td>\n",
       "      <td>1.646</td>\n",
       "    </tr>\n",
       "    <tr>\n",
       "      <th>3</th>\n",
       "      <td>Sebastian Cappelen</td>\n",
       "      <td>$371,482</td>\n",
       "      <td>1.0</td>\n",
       "      <td>303.7</td>\n",
       "      <td>1.609</td>\n",
       "    </tr>\n",
       "    <tr>\n",
       "      <th>2</th>\n",
       "      <td>Cameron Percy</td>\n",
       "      <td>$470,679</td>\n",
       "      <td>1.0</td>\n",
       "      <td>295.0</td>\n",
       "      <td>1.638</td>\n",
       "    </tr>\n",
       "    <tr>\n",
       "      <th>6</th>\n",
       "      <td>Arjun Atwal</td>\n",
       "      <td>$63,252</td>\n",
       "      <td>NaN</td>\n",
       "      <td>286.5</td>\n",
       "      <td>1.638</td>\n",
       "    </tr>\n",
       "    <tr>\n",
       "      <th>4</th>\n",
       "      <td>Brian Gay</td>\n",
       "      <td>$702,647</td>\n",
       "      <td>2.0</td>\n",
       "      <td>288.5</td>\n",
       "      <td>1.586</td>\n",
       "    </tr>\n",
       "    <tr>\n",
       "      <th>0</th>\n",
       "      <td>Zac Blair</td>\n",
       "      <td>$745,273</td>\n",
       "      <td>1.0</td>\n",
       "      <td>280.9</td>\n",
       "      <td>1.589</td>\n",
       "    </tr>\n",
       "  </tbody>\n",
       "</table>\n",
       "</div>"
      ],
      "text/plain": [
       "          PLAYER_NAME FINISHES_OFFICIAL_MONEY  FINISHES_TOP10  \\\n",
       "7       Vaughn Taylor             $1,148,779              2.0   \n",
       "1        Jimmy Walker               $243,370              NaN   \n",
       "9         Roger Sloan               $253,597              NaN   \n",
       "8        Jason Dufner               $306,781              NaN   \n",
       "5     Ted Potter, Jr.               $361,540              2.0   \n",
       "3  Sebastian Cappelen               $371,482              1.0   \n",
       "2       Cameron Percy               $470,679              1.0   \n",
       "6         Arjun Atwal                $63,252              NaN   \n",
       "4           Brian Gay               $702,647              2.0   \n",
       "0           Zac Blair               $745,273              1.0   \n",
       "\n",
       "   TEE_AVG_DRIVING_DISTANCE  PUTTING_AVG_OVERALL  \n",
       "7                     281.6                1.562  \n",
       "1                     298.0                1.627  \n",
       "9                     291.5                1.607  \n",
       "8                     286.2                1.645  \n",
       "5                     290.2                1.646  \n",
       "3                     303.7                1.609  \n",
       "2                     295.0                1.638  \n",
       "6                     286.5                1.638  \n",
       "4                     288.5                1.586  \n",
       "0                     280.9                1.589  "
      ]
     },
     "execution_count": 60,
     "metadata": {},
     "output_type": "execute_result"
    }
   ],
   "source": [
    "df2.head(10).sort_values(by='FINISHES_OFFICIAL_MONEY')"
   ]
  },
  {
   "cell_type": "code",
   "execution_count": null,
   "id": "c46e0ad1",
   "metadata": {},
   "outputs": [],
   "source": [
    "##here we can see that the while Vaughn Taylor has the lowest avg drive he has the lowest putt avg and also has\n",
    "##made the most money confirming that the best putters make the most money in tournaments"
   ]
  }
 ],
 "metadata": {
  "kernelspec": {
   "display_name": "Python 3 (ipykernel)",
   "language": "python",
   "name": "python3"
  },
  "language_info": {
   "codemirror_mode": {
    "name": "ipython",
    "version": 3
   },
   "file_extension": ".py",
   "mimetype": "text/x-python",
   "name": "python",
   "nbconvert_exporter": "python",
   "pygments_lexer": "ipython3",
   "version": "3.9.7"
  }
 },
 "nbformat": 4,
 "nbformat_minor": 5
}
