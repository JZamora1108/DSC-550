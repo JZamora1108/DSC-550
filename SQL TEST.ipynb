{
 "cells": [
  {
   "cell_type": "code",
   "execution_count": 54,
   "id": "3e039b9a",
   "metadata": {},
   "outputs": [
    {
     "name": "stdout",
     "output_type": "stream",
     "text": [
      "<module 'os' from 'C:\\\\Users\\\\w600334\\\\Anaconda3\\\\lib\\\\os.py'>\n"
     ]
    }
   ],
   "source": [
    "##View os and imports\n",
    "import pandas as pd\n",
    "import numpy as np\n",
    "import matplotlib.pyplot as plt\n",
    "import os\n",
    "print (os)"
   ]
  },
  {
   "cell_type": "code",
   "execution_count": 83,
   "id": "0554b349",
   "metadata": {},
   "outputs": [
    {
     "data": {
      "text/html": [
       "<div>\n",
       "<style scoped>\n",
       "    .dataframe tbody tr th:only-of-type {\n",
       "        vertical-align: middle;\n",
       "    }\n",
       "\n",
       "    .dataframe tbody tr th {\n",
       "        vertical-align: top;\n",
       "    }\n",
       "\n",
       "    .dataframe thead th {\n",
       "        text-align: right;\n",
       "    }\n",
       "</style>\n",
       "<table border=\"1\" class=\"dataframe\">\n",
       "  <thead>\n",
       "    <tr style=\"text-align: right;\">\n",
       "      <th></th>\n",
       "      <th>ADMI_ID</th>\n",
       "      <th>ACCESS_ID</th>\n",
       "      <th>ENTITY_ID</th>\n",
       "      <th>TR_ID</th>\n",
       "      <th>TR_NUMBER</th>\n",
       "      <th>COVERAGE_NUMBER</th>\n",
       "      <th>SUB_COVERAGE_NUM</th>\n",
       "      <th>PLAN_CODE</th>\n",
       "      <th>PLAN_CODE_SUB_TYPE</th>\n",
       "      <th>PLAN_CODE_SUB_TYPE2</th>\n",
       "      <th>...</th>\n",
       "      <th>EXTC_MTR_DATE_USE</th>\n",
       "      <th>ENDOWMENT_DATE</th>\n",
       "      <th>WAIVE_AB_CHARGES</th>\n",
       "      <th>FV_TABLE_TYPE</th>\n",
       "      <th>FV_ACCESS_IND</th>\n",
       "      <th>AUTO_TERMINATE_IND</th>\n",
       "      <th>IR_ACCESS_IND</th>\n",
       "      <th>CLM_COI_IND</th>\n",
       "      <th>NUMBER_OF_ENTRIES</th>\n",
       "      <th>SCHEDULED_INCREASE_IND</th>\n",
       "    </tr>\n",
       "  </thead>\n",
       "  <tbody>\n",
       "    <tr>\n",
       "      <th>0</th>\n",
       "      <td>TR</td>\n",
       "      <td>WLI</td>\n",
       "      <td>0000000001</td>\n",
       "      <td>CO</td>\n",
       "      <td>1</td>\n",
       "      <td>A</td>\n",
       "      <td>AA</td>\n",
       "      <td>PARORDIN</td>\n",
       "      <td>Non-Smoker</td>\n",
       "      <td>2</td>\n",
       "      <td>...</td>\n",
       "      <td>0</td>\n",
       "      <td>2077-01-01</td>\n",
       "      <td>0</td>\n",
       "      <td></td>\n",
       "      <td>0</td>\n",
       "      <td>0</td>\n",
       "      <td>0</td>\n",
       "      <td></td>\n",
       "      <td>1</td>\n",
       "      <td>0</td>\n",
       "    </tr>\n",
       "    <tr>\n",
       "      <th>1</th>\n",
       "      <td>TR</td>\n",
       "      <td>WLI</td>\n",
       "      <td>0001111234</td>\n",
       "      <td>CO</td>\n",
       "      <td>1</td>\n",
       "      <td>A</td>\n",
       "      <td>AA</td>\n",
       "      <td>TUINDEXN</td>\n",
       "      <td>Non-Smoker</td>\n",
       "      <td>2</td>\n",
       "      <td>...</td>\n",
       "      <td>0</td>\n",
       "      <td>2049-09-01</td>\n",
       "      <td>0</td>\n",
       "      <td></td>\n",
       "      <td>0</td>\n",
       "      <td>0</td>\n",
       "      <td>0</td>\n",
       "      <td></td>\n",
       "      <td>2</td>\n",
       "      <td>0</td>\n",
       "    </tr>\n",
       "    <tr>\n",
       "      <th>2</th>\n",
       "      <td>TR</td>\n",
       "      <td>WLI</td>\n",
       "      <td>0017146224</td>\n",
       "      <td>CO</td>\n",
       "      <td>1</td>\n",
       "      <td>A</td>\n",
       "      <td>AA</td>\n",
       "      <td>TUINDEXN</td>\n",
       "      <td>Non-Smoker</td>\n",
       "      <td>2</td>\n",
       "      <td>...</td>\n",
       "      <td>0</td>\n",
       "      <td>2074-06-01</td>\n",
       "      <td>0</td>\n",
       "      <td></td>\n",
       "      <td>0</td>\n",
       "      <td>0</td>\n",
       "      <td>0</td>\n",
       "      <td></td>\n",
       "      <td>2</td>\n",
       "      <td>0</td>\n",
       "    </tr>\n",
       "    <tr>\n",
       "      <th>3</th>\n",
       "      <td>TR</td>\n",
       "      <td>WLI</td>\n",
       "      <td>0061260145</td>\n",
       "      <td>CO</td>\n",
       "      <td>1</td>\n",
       "      <td>A</td>\n",
       "      <td>AA</td>\n",
       "      <td>TUINDEXC</td>\n",
       "      <td>UNDERAGE</td>\n",
       "      <td>0</td>\n",
       "      <td>...</td>\n",
       "      <td>0</td>\n",
       "      <td>2102-06-19</td>\n",
       "      <td>0</td>\n",
       "      <td></td>\n",
       "      <td>0</td>\n",
       "      <td>0</td>\n",
       "      <td>0</td>\n",
       "      <td></td>\n",
       "      <td>2</td>\n",
       "      <td>0</td>\n",
       "    </tr>\n",
       "    <tr>\n",
       "      <th>4</th>\n",
       "      <td>TR</td>\n",
       "      <td>WLI</td>\n",
       "      <td>0100720211</td>\n",
       "      <td>CO</td>\n",
       "      <td>1</td>\n",
       "      <td>A</td>\n",
       "      <td>AA</td>\n",
       "      <td>TUINDEXN</td>\n",
       "      <td>Non-Smoker</td>\n",
       "      <td>2</td>\n",
       "      <td>...</td>\n",
       "      <td>0</td>\n",
       "      <td>2078-01-01</td>\n",
       "      <td>0</td>\n",
       "      <td></td>\n",
       "      <td>0</td>\n",
       "      <td>0</td>\n",
       "      <td>0</td>\n",
       "      <td></td>\n",
       "      <td>2</td>\n",
       "      <td>0</td>\n",
       "    </tr>\n",
       "    <tr>\n",
       "      <th>5</th>\n",
       "      <td>TR</td>\n",
       "      <td>WLI</td>\n",
       "      <td>0100720211</td>\n",
       "      <td>CO</td>\n",
       "      <td>2</td>\n",
       "      <td>A</td>\n",
       "      <td>AB</td>\n",
       "      <td>TUINDEXN</td>\n",
       "      <td>Non-Smoker</td>\n",
       "      <td>2</td>\n",
       "      <td>...</td>\n",
       "      <td>0</td>\n",
       "      <td>2078-01-01</td>\n",
       "      <td>0</td>\n",
       "      <td></td>\n",
       "      <td>0</td>\n",
       "      <td>0</td>\n",
       "      <td>0</td>\n",
       "      <td></td>\n",
       "      <td>2</td>\n",
       "      <td>0</td>\n",
       "    </tr>\n",
       "    <tr>\n",
       "      <th>6</th>\n",
       "      <td>TR</td>\n",
       "      <td>WLI</td>\n",
       "      <td>0100720212</td>\n",
       "      <td>CO</td>\n",
       "      <td>1</td>\n",
       "      <td>A</td>\n",
       "      <td>AA</td>\n",
       "      <td>IT10T01N</td>\n",
       "      <td>Non-Smoker</td>\n",
       "      <td>2</td>\n",
       "      <td>...</td>\n",
       "      <td>0</td>\n",
       "      <td>2074-01-01</td>\n",
       "      <td>0</td>\n",
       "      <td></td>\n",
       "      <td>0</td>\n",
       "      <td>0</td>\n",
       "      <td>0</td>\n",
       "      <td></td>\n",
       "      <td>2</td>\n",
       "      <td>0</td>\n",
       "    </tr>\n",
       "    <tr>\n",
       "      <th>7</th>\n",
       "      <td>TR</td>\n",
       "      <td>WLI</td>\n",
       "      <td>0107202003</td>\n",
       "      <td>CO</td>\n",
       "      <td>1</td>\n",
       "      <td>A</td>\n",
       "      <td>AA</td>\n",
       "      <td>TUINDEXN</td>\n",
       "      <td>Non-Smoker</td>\n",
       "      <td>2</td>\n",
       "      <td>...</td>\n",
       "      <td>0</td>\n",
       "      <td>2089-01-01</td>\n",
       "      <td>0</td>\n",
       "      <td></td>\n",
       "      <td>0</td>\n",
       "      <td>0</td>\n",
       "      <td>0</td>\n",
       "      <td>0</td>\n",
       "      <td>2</td>\n",
       "      <td>0</td>\n",
       "    </tr>\n",
       "    <tr>\n",
       "      <th>8</th>\n",
       "      <td>TR</td>\n",
       "      <td>WLI</td>\n",
       "      <td>0107202100</td>\n",
       "      <td>CO</td>\n",
       "      <td>1</td>\n",
       "      <td>A</td>\n",
       "      <td>AA</td>\n",
       "      <td>TUINDEXN</td>\n",
       "      <td>Non-Smoker</td>\n",
       "      <td>2</td>\n",
       "      <td>...</td>\n",
       "      <td>0</td>\n",
       "      <td>2081-01-01</td>\n",
       "      <td>0</td>\n",
       "      <td></td>\n",
       "      <td>0</td>\n",
       "      <td>0</td>\n",
       "      <td>0</td>\n",
       "      <td></td>\n",
       "      <td>2</td>\n",
       "      <td>0</td>\n",
       "    </tr>\n",
       "    <tr>\n",
       "      <th>9</th>\n",
       "      <td>TR</td>\n",
       "      <td>WLI</td>\n",
       "      <td>0107202101</td>\n",
       "      <td>CO</td>\n",
       "      <td>1</td>\n",
       "      <td>A</td>\n",
       "      <td>AA</td>\n",
       "      <td>TUINDEXN</td>\n",
       "      <td>Non-Smoker</td>\n",
       "      <td>2</td>\n",
       "      <td>...</td>\n",
       "      <td>0</td>\n",
       "      <td>2089-01-01</td>\n",
       "      <td>0</td>\n",
       "      <td></td>\n",
       "      <td>0</td>\n",
       "      <td>0</td>\n",
       "      <td>0</td>\n",
       "      <td>2</td>\n",
       "      <td>2</td>\n",
       "      <td>0</td>\n",
       "    </tr>\n",
       "  </tbody>\n",
       "</table>\n",
       "<p>10 rows × 114 columns</p>\n",
       "</div>"
      ],
      "text/plain": [
       "  ADMI_ID ACCESS_ID   ENTITY_ID TR_ID  TR_NUMBER COVERAGE_NUMBER  \\\n",
       "0      TR       WLI  0000000001    CO          1               A   \n",
       "1      TR       WLI  0001111234    CO          1               A   \n",
       "2      TR       WLI  0017146224    CO          1               A   \n",
       "3      TR       WLI  0061260145    CO          1               A   \n",
       "4      TR       WLI  0100720211    CO          1               A   \n",
       "5      TR       WLI  0100720211    CO          2               A   \n",
       "6      TR       WLI  0100720212    CO          1               A   \n",
       "7      TR       WLI  0107202003    CO          1               A   \n",
       "8      TR       WLI  0107202100    CO          1               A   \n",
       "9      TR       WLI  0107202101    CO          1               A   \n",
       "\n",
       "  SUB_COVERAGE_NUM PLAN_CODE PLAN_CODE_SUB_TYPE  PLAN_CODE_SUB_TYPE2  ...  \\\n",
       "0               AA  PARORDIN         Non-Smoker                    2  ...   \n",
       "1               AA  TUINDEXN         Non-Smoker                    2  ...   \n",
       "2               AA  TUINDEXN         Non-Smoker                    2  ...   \n",
       "3               AA  TUINDEXC           UNDERAGE                    0  ...   \n",
       "4               AA  TUINDEXN         Non-Smoker                    2  ...   \n",
       "5               AB  TUINDEXN         Non-Smoker                    2  ...   \n",
       "6               AA  IT10T01N         Non-Smoker                    2  ...   \n",
       "7               AA  TUINDEXN         Non-Smoker                    2  ...   \n",
       "8               AA  TUINDEXN         Non-Smoker                    2  ...   \n",
       "9               AA  TUINDEXN         Non-Smoker                    2  ...   \n",
       "\n",
       "  EXTC_MTR_DATE_USE ENDOWMENT_DATE WAIVE_AB_CHARGES FV_TABLE_TYPE  \\\n",
       "0                 0     2077-01-01                0                 \n",
       "1                 0     2049-09-01                0                 \n",
       "2                 0     2074-06-01                0                 \n",
       "3                 0     2102-06-19                0                 \n",
       "4                 0     2078-01-01                0                 \n",
       "5                 0     2078-01-01                0                 \n",
       "6                 0     2074-01-01                0                 \n",
       "7                 0     2089-01-01                0                 \n",
       "8                 0     2081-01-01                0                 \n",
       "9                 0     2089-01-01                0                 \n",
       "\n",
       "   FV_ACCESS_IND  AUTO_TERMINATE_IND IR_ACCESS_IND  CLM_COI_IND  \\\n",
       "0              0                   0             0                \n",
       "1              0                   0             0                \n",
       "2              0                   0             0                \n",
       "3              0                   0             0                \n",
       "4              0                   0             0                \n",
       "5              0                   0             0                \n",
       "6              0                   0             0                \n",
       "7              0                   0             0            0   \n",
       "8              0                   0             0                \n",
       "9              0                   0             0            2   \n",
       "\n",
       "   NUMBER_OF_ENTRIES  SCHEDULED_INCREASE_IND  \n",
       "0                  1                       0  \n",
       "1                  2                       0  \n",
       "2                  2                       0  \n",
       "3                  2                       0  \n",
       "4                  2                       0  \n",
       "5                  2                       0  \n",
       "6                  2                       0  \n",
       "7                  2                       0  \n",
       "8                  2                       0  \n",
       "9                  2                       0  \n",
       "\n",
       "[10 rows x 114 columns]"
      ]
     },
     "execution_count": 83,
     "metadata": {},
     "output_type": "execute_result"
    }
   ],
   "source": [
    "##Read in spreadsheet and view info\n",
    "df = pd.read_excel(\"SQLTest.xlsx\")\n",
    "df.head(10)"
   ]
  },
  {
   "cell_type": "code",
   "execution_count": 56,
   "id": "aa3fef61",
   "metadata": {},
   "outputs": [
    {
     "data": {
      "text/plain": [
       "ADMI_ID                   0\n",
       "ACCESS_ID                 0\n",
       "ENTITY_ID                 0\n",
       "TR_ID                     0\n",
       "TR_NUMBER                 0\n",
       "                         ..\n",
       "AUTO_TERMINATE_IND        0\n",
       "IR_ACCESS_IND             0\n",
       "CLM_COI_IND               0\n",
       "NUMBER_OF_ENTRIES         0\n",
       "SCHEDULED_INCREASE_IND    0\n",
       "Length: 112, dtype: int64"
      ]
     },
     "execution_count": 56,
     "metadata": {},
     "output_type": "execute_result"
    }
   ],
   "source": [
    "##verifying data quality\n",
    "df.isnull().sum()"
   ]
  },
  {
   "cell_type": "code",
   "execution_count": 57,
   "id": "96902508",
   "metadata": {},
   "outputs": [
    {
     "name": "stdout",
     "output_type": "stream",
     "text": [
      "0    PARORDIN\n",
      "1    TUINDEXN\n",
      "2    TUINDEXN\n",
      "3    TUINDEXC\n",
      "4    TUINDEXN\n",
      "5    TUINDEXN\n",
      "6    IT10T01N\n",
      "7    TUINDEXN\n",
      "8    TUINDEXN\n",
      "9    TUINDEXN\n",
      "Name: PLAN_CODE, dtype: object\n"
     ]
    }
   ],
   "source": [
    "##viewing how many columns exist (775)\n",
    "print(df.head(10)['PLAN_CODE'])"
   ]
  },
  {
   "cell_type": "code",
   "execution_count": 58,
   "id": "557e64af",
   "metadata": {},
   "outputs": [
    {
     "name": "stdout",
     "output_type": "stream",
     "text": [
      "0    Non-Smoker\n",
      "1    Non-Smoker\n",
      "2    Non-Smoker\n",
      "3      UNDERAGE\n",
      "4    Non-Smoker\n",
      "5    Non-Smoker\n",
      "6    Non-Smoker\n",
      "7    Non-Smoker\n",
      "8    Non-Smoker\n",
      "9    Non-Smoker\n",
      "Name: PLAN_CODE_SUB_TYPE, dtype: object\n"
     ]
    }
   ],
   "source": [
    "##updated spreadsheet rather than through python to view smoker status\n",
    "print(df.head(10)['PLAN_CODE_SUB_TYPE'])"
   ]
  },
  {
   "cell_type": "code",
   "execution_count": 60,
   "id": "51c8fc81",
   "metadata": {},
   "outputs": [
    {
     "name": "stdout",
     "output_type": "stream",
     "text": [
      "0    Female\n",
      "1      Male\n",
      "2    Female\n",
      "3    Female\n",
      "4    Female\n",
      "5    Female\n",
      "6      Male\n",
      "7      Male\n",
      "8    Female\n",
      "9      Male\n",
      "Name: ACCESS_SEX_CODE_SUB, dtype: object\n"
     ]
    }
   ],
   "source": [
    "##updated spreadsheet rather than through python to view Male/Female\n",
    "print(df.head(10)['ACCESS_SEX_CODE_SUB'])"
   ]
  },
  {
   "cell_type": "code",
   "execution_count": 61,
   "id": "d60c3055",
   "metadata": {},
   "outputs": [
    {
     "name": "stdout",
     "output_type": "stream",
     "text": [
      "0     50.00000\n",
      "1    100.00000\n",
      "2    106.57700\n",
      "3    117.85531\n",
      "4     91.80018\n",
      "5     10.00000\n",
      "6    100.00000\n",
      "7     98.31177\n",
      "8     23.22883\n",
      "9    100.00000\n",
      "Name: NUMBER_OF_UNITS, dtype: float64\n"
     ]
    }
   ],
   "source": [
    "##View number_of_units in thousands and data type (float)\n",
    "print(df.head(10)['NUMBER_OF_UNITS'])"
   ]
  },
  {
   "cell_type": "code",
   "execution_count": 62,
   "id": "e9ff69e5",
   "metadata": {},
   "outputs": [
    {
     "name": "stdout",
     "output_type": "stream",
     "text": [
      "0    40\n",
      "1    60\n",
      "2    40\n",
      "3    15\n",
      "4    39\n",
      "5    40\n",
      "6    39\n",
      "7    31\n",
      "8    34\n",
      "9    31\n",
      "Name: COMM_AGE_ACCESS, dtype: int64\n"
     ]
    }
   ],
   "source": [
    "##View member age\n",
    "print(df.head(10)['COMM_AGE_ACCESS'])"
   ]
  },
  {
   "cell_type": "code",
   "execution_count": 63,
   "id": "48f7fb38",
   "metadata": {
    "scrolled": true
   },
   "outputs": [
    {
     "data": {
      "text/plain": [
       "array([[<AxesSubplot:title={'center':'NUMBER_OF_UNITS'}>,\n",
       "        <AxesSubplot:title={'center':'COMM_AGE_ACCESS'}>]], dtype=object)"
      ]
     },
     "execution_count": 63,
     "metadata": {},
     "output_type": "execute_result"
    },
    {
     "data": {
      "image/png": "[encoded data removed]",
      "text/plain": [
       "<Figure size 432x288 with 2 Axes>"
      ]
     },
     "metadata": {
      "needs_background": "light"
     },
     "output_type": "display_data"
    }
   ],
   "source": [
    "##Verifying data type as objects should not be allowed in histogram only integers and floats\n",
    "df.hist(['PLAN_CODE_SUB_TYPE', 'ACCESS_SEX_CODE_SUB', 'NUMBER_OF_UNITS', 'COMM_AGE_ACCESS'])"
   ]
  },
  {
   "cell_type": "code",
   "execution_count": 88,
   "id": "d8cb666e",
   "metadata": {},
   "outputs": [
    {
     "data": {
      "text/plain": [
       "array([[<AxesSubplot:title={'center':'PLAN_CODE_SUB_TYPE2'}>,\n",
       "        <AxesSubplot:title={'center':'ACCESS_SEX_CODE_SUB2'}>],\n",
       "       [<AxesSubplot:title={'center':'NUMBER_OF_UNITS'}>,\n",
       "        <AxesSubplot:title={'center':'COMM_AGE_ACCESS'}>]], dtype=object)"
      ]
     },
     "execution_count": 88,
     "metadata": {},
     "output_type": "execute_result"
    },
    {
     "data": {
      "image/png": "[encoded data removed]",
      "text/plain": [
       "<Figure size 1440x720 with 4 Axes>"
      ]
     },
     "metadata": {
      "needs_background": "light"
     },
     "output_type": "display_data"
    }
   ],
   "source": [
    "##Updating Sex and Smoker Status to intg\n",
    "df.hist(['PLAN_CODE_SUB_TYPE2', 'ACCESS_SEX_CODE_SUB2', 'NUMBER_OF_UNITS', 'COMM_AGE_ACCESS'])"
   ]
  },
  {
   "cell_type": "code",
   "execution_count": 69,
   "id": "e93c9b2f",
   "metadata": {},
   "outputs": [
    {
     "data": {
      "image/png": "[encoded data removed]",
      "text/plain": [
       "<Figure size 1440x720 with 4 Axes>"
      ]
     },
     "metadata": {
      "needs_background": "light"
     },
     "output_type": "display_data"
    }
   ],
   "source": [
    "##Set up figsize\n",
    "plt.rcParams['figure.figsize'] = (20, 10)\n",
    "\n",
    "##Make Subplots\n",
    "fig, axes = plt.subplots(nrows = 2, ncols = 2)\n",
    "\n",
    "##Specify features\n",
    "num_features = ['COMM_AGE_ACCESS', 'PLAN_CODE_SUB_TYPE', 'ACCESS_SEX_CODE_SUB', 'NUMBER_OF_UNITS']\n",
    "xaxes = num_features\n",
    "yaxes = ['Counts', 'Counts', 'Counts', 'Counts']\n",
    "\n",
    "##Draw histogram\n",
    "axes = axes.ravel()\n",
    "for idx, ax in enumerate(axes):\n",
    "    ax.hist(df[num_features[idx]].dropna(), bins=40)\n",
    "    ax.set_xlabel(xaxes[idx], fontsize=20)\n",
    "    ax.set_ylabel(yaxes[idx], fontsize=20)\n",
    "    ax.tick_params(axis='both', labelsize=15)"
   ]
  },
  {
   "cell_type": "code",
   "execution_count": 84,
   "id": "0e985da0",
   "metadata": {},
   "outputs": [],
   "source": [
    "x = np.array(df[['COMM_AGE_ACCESS', 'PLAN_CODE_SUB_TYPE2', 'ACCESS_SEX_CODE_SUB2', 'NUMBER_OF_UNITS']])\n",
    "y = np.array(df['NUMBER_OF_UNITS'])\n",
    "\n",
    "from sklearn.model_selection import train_test_split\n",
    "xtrain, xtest, ytrain, ytest = train_test_split(x, y, test_size=0.2, random_state=42)"
   ]
  },
  {
   "cell_type": "code",
   "execution_count": 85,
   "id": "77e95285",
   "metadata": {},
   "outputs": [
    {
     "data": {
      "text/plain": [
       "RandomForestRegressor()"
      ]
     },
     "execution_count": 85,
     "metadata": {},
     "output_type": "execute_result"
    }
   ],
   "source": [
    "from sklearn.ensemble import RandomForestRegressor\n",
    "forest = RandomForestRegressor()\n",
    "forest.fit(xtrain, ytrain)"
   ]
  },
  {
   "cell_type": "code",
   "execution_count": 89,
   "id": "f213148d",
   "metadata": {},
   "outputs": [
    {
     "name": "stdout",
     "output_type": "stream",
     "text": [
      "     Predicted Premium Amount In  Units (Thousands)\n",
      "0                                         33.565310\n",
      "1                                         25.000000\n",
      "2                                        100.000000\n",
      "3                                        234.080941\n",
      "4                                         89.347871\n",
      "..                                              ...\n",
      "150                                       35.104480\n",
      "151                                       98.700837\n",
      "152                                      145.834068\n",
      "153                                        0.250000\n",
      "154                                       50.000000\n",
      "\n",
      "[155 rows x 1 columns]\n"
     ]
    }
   ],
   "source": [
    "ypred = forest.predict(xtest)\n",
    "data = pd.DataFrame(data={\"Predicted Premium Amount In  Units (Thousands)\": ypred})\n",
    "print(data)"
   ]
  }
 ],
 "metadata": {
  "kernelspec": {
   "display_name": "Python 3 (ipykernel)",
   "language": "python",
   "name": "python3"
  },
  "language_info": {
   "codemirror_mode": {
    "name": "ipython",
    "version": 3
   },
   "file_extension": ".py",
   "mimetype": "text/x-python",
   "name": "python",
   "nbconvert_exporter": "python",
   "pygments_lexer": "ipython3",
   "version": "3.9.7"
  }
 },
 "nbformat": 4,
 "nbformat_minor": 5
}
