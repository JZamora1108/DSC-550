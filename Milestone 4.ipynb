{
 "cells": [
  {
   "cell_type": "code",
   "execution_count": 3,
   "id": "c31821e2",
   "metadata": {},
   "outputs": [],
   "source": [
    "import requests\n",
    "import matplotlib.pyplot as plt\n",
    "from sklearn.datasets import make_blobs\n",
    "from sklearn.cluster import KMeans\n",
    "from sklearn.metrics import silhouette_score\n",
    "from sklearn.preprocessing import StandardScaler\n",
    "import pandas as pd\n",
    "from sklearn.preprocessing import scale\n",
    "from mpl_toolkits.mplot3d import Axes3D\n",
    "from sklearn.preprocessing import StandardScaler\n",
    "import numpy as np"
   ]
  },
  {
   "cell_type": "code",
   "execution_count": 4,
   "id": "6727b8e3",
   "metadata": {},
   "outputs": [
    {
     "data": {
      "text/html": [
       "<div>\n",
       "<style scoped>\n",
       "    .dataframe tbody tr th:only-of-type {\n",
       "        vertical-align: middle;\n",
       "    }\n",
       "\n",
       "    .dataframe tbody tr th {\n",
       "        vertical-align: top;\n",
       "    }\n",
       "\n",
       "    .dataframe thead th {\n",
       "        text-align: right;\n",
       "    }\n",
       "</style>\n",
       "<table border=\"1\" class=\"dataframe\">\n",
       "  <thead>\n",
       "    <tr style=\"text-align: right;\">\n",
       "      <th></th>\n",
       "      <th>PLAYER NAME</th>\n",
       "      <th>AVG_APPROACH_BIRDIE_OR_BETTER</th>\n",
       "      <th>AVG_APPROACH_BOGEY_OR_WORSE</th>\n",
       "      <th>AVG_APPROACH_PAR</th>\n",
       "      <th>AVG_APPROACH_SHOT_DISTANCE</th>\n",
       "      <th>FAIRWAY_APPROACH_RTP</th>\n",
       "      <th>GIR_PCT_FAIRWAY_BUNKER</th>\n",
       "      <th>GIR_PCT_FAIRWAY</th>\n",
       "      <th>GIR_PCT_OTHER</th>\n",
       "      <th>GIR_PCT_OVERALL</th>\n",
       "      <th>...</th>\n",
       "      <th>SCORING_PAR4_AVERAGE</th>\n",
       "      <th>SCORING_PAR5_AVERAGE</th>\n",
       "      <th>SCORING_ROUNDS_IN_60S</th>\n",
       "      <th>SCORING_AVG_OVERALL</th>\n",
       "      <th>SCORING_TOTAL_BIRDIES</th>\n",
       "      <th>SCORING_TOTAL_EAGLES</th>\n",
       "      <th>STREAKS_CUTS_MADE</th>\n",
       "      <th>STREAKS_FIRS_MADE</th>\n",
       "      <th>STREAKS_GIRS_MADE</th>\n",
       "      <th>STREAKS_HOLES_UNDER_PAR</th>\n",
       "    </tr>\n",
       "  </thead>\n",
       "  <tbody>\n",
       "    <tr>\n",
       "      <th>0</th>\n",
       "      <td>Zac Blair</td>\n",
       "      <td>152.9</td>\n",
       "      <td>158.9</td>\n",
       "      <td>158.5</td>\n",
       "      <td>157.5</td>\n",
       "      <td>-0.034</td>\n",
       "      <td>39.5</td>\n",
       "      <td>74.74</td>\n",
       "      <td>51.59</td>\n",
       "      <td>63.47</td>\n",
       "      <td>...</td>\n",
       "      <td>4.07</td>\n",
       "      <td>4.65</td>\n",
       "      <td>25.0</td>\n",
       "      <td>71.705</td>\n",
       "      <td>240.0</td>\n",
       "      <td>1.0</td>\n",
       "      <td>NaN</td>\n",
       "      <td>0.0</td>\n",
       "      <td>0.0</td>\n",
       "      <td>3.0</td>\n",
       "    </tr>\n",
       "    <tr>\n",
       "      <th>1</th>\n",
       "      <td>Jimmy Walker</td>\n",
       "      <td>156.9</td>\n",
       "      <td>166.8</td>\n",
       "      <td>160.3</td>\n",
       "      <td>161.0</td>\n",
       "      <td>-0.033</td>\n",
       "      <td>57.8</td>\n",
       "      <td>78.74</td>\n",
       "      <td>50.88</td>\n",
       "      <td>62.20</td>\n",
       "      <td>...</td>\n",
       "      <td>4.11</td>\n",
       "      <td>4.74</td>\n",
       "      <td>10.0</td>\n",
       "      <td>71.927</td>\n",
       "      <td>159.0</td>\n",
       "      <td>4.0</td>\n",
       "      <td>NaN</td>\n",
       "      <td>3.0</td>\n",
       "      <td>0.0</td>\n",
       "      <td>3.0</td>\n",
       "    </tr>\n",
       "    <tr>\n",
       "      <th>2</th>\n",
       "      <td>Cameron Percy</td>\n",
       "      <td>161.3</td>\n",
       "      <td>164.0</td>\n",
       "      <td>161.6</td>\n",
       "      <td>161.9</td>\n",
       "      <td>-0.104</td>\n",
       "      <td>58.1</td>\n",
       "      <td>79.36</td>\n",
       "      <td>58.75</td>\n",
       "      <td>69.63</td>\n",
       "      <td>...</td>\n",
       "      <td>3.98</td>\n",
       "      <td>4.62</td>\n",
       "      <td>17.0</td>\n",
       "      <td>71.073</td>\n",
       "      <td>160.0</td>\n",
       "      <td>6.0</td>\n",
       "      <td>NaN</td>\n",
       "      <td>3.0</td>\n",
       "      <td>7.0</td>\n",
       "      <td>3.0</td>\n",
       "    </tr>\n",
       "    <tr>\n",
       "      <th>3</th>\n",
       "      <td>Sebastian Cappelen</td>\n",
       "      <td>161.7</td>\n",
       "      <td>161.1</td>\n",
       "      <td>153.6</td>\n",
       "      <td>156.4</td>\n",
       "      <td>-0.065</td>\n",
       "      <td>43.2</td>\n",
       "      <td>77.04</td>\n",
       "      <td>54.97</td>\n",
       "      <td>64.36</td>\n",
       "      <td>...</td>\n",
       "      <td>4.04</td>\n",
       "      <td>4.73</td>\n",
       "      <td>12.0</td>\n",
       "      <td>72.106</td>\n",
       "      <td>186.0</td>\n",
       "      <td>5.0</td>\n",
       "      <td>NaN</td>\n",
       "      <td>0.0</td>\n",
       "      <td>0.0</td>\n",
       "      <td>5.0</td>\n",
       "    </tr>\n",
       "    <tr>\n",
       "      <th>4</th>\n",
       "      <td>Brian Gay</td>\n",
       "      <td>162.3</td>\n",
       "      <td>159.8</td>\n",
       "      <td>156.1</td>\n",
       "      <td>158.0</td>\n",
       "      <td>-0.065</td>\n",
       "      <td>49.1</td>\n",
       "      <td>76.60</td>\n",
       "      <td>54.40</td>\n",
       "      <td>64.81</td>\n",
       "      <td>...</td>\n",
       "      <td>4.01</td>\n",
       "      <td>4.72</td>\n",
       "      <td>24.0</td>\n",
       "      <td>71.407</td>\n",
       "      <td>245.0</td>\n",
       "      <td>5.0</td>\n",
       "      <td>NaN</td>\n",
       "      <td>0.0</td>\n",
       "      <td>1.0</td>\n",
       "      <td>5.0</td>\n",
       "    </tr>\n",
       "    <tr>\n",
       "      <th>5</th>\n",
       "      <td>Ted Potter, Jr.</td>\n",
       "      <td>162.7</td>\n",
       "      <td>166.2</td>\n",
       "      <td>156.2</td>\n",
       "      <td>159.2</td>\n",
       "      <td>-0.056</td>\n",
       "      <td>58.3</td>\n",
       "      <td>76.41</td>\n",
       "      <td>58.68</td>\n",
       "      <td>68.94</td>\n",
       "      <td>...</td>\n",
       "      <td>4.02</td>\n",
       "      <td>4.74</td>\n",
       "      <td>14.0</td>\n",
       "      <td>71.877</td>\n",
       "      <td>152.0</td>\n",
       "      <td>3.0</td>\n",
       "      <td>NaN</td>\n",
       "      <td>8.0</td>\n",
       "      <td>0.0</td>\n",
       "      <td>3.0</td>\n",
       "    </tr>\n",
       "    <tr>\n",
       "      <th>6</th>\n",
       "      <td>Arjun Atwal</td>\n",
       "      <td>162.9</td>\n",
       "      <td>163.0</td>\n",
       "      <td>156.3</td>\n",
       "      <td>158.7</td>\n",
       "      <td>-0.022</td>\n",
       "      <td>45.5</td>\n",
       "      <td>73.96</td>\n",
       "      <td>57.24</td>\n",
       "      <td>66.49</td>\n",
       "      <td>...</td>\n",
       "      <td>4.01</td>\n",
       "      <td>4.68</td>\n",
       "      <td>12.0</td>\n",
       "      <td>71.867</td>\n",
       "      <td>107.0</td>\n",
       "      <td>5.0</td>\n",
       "      <td>NaN</td>\n",
       "      <td>0.0</td>\n",
       "      <td>7.0</td>\n",
       "      <td>3.0</td>\n",
       "    </tr>\n",
       "    <tr>\n",
       "      <th>7</th>\n",
       "      <td>Vaughn Taylor</td>\n",
       "      <td>163.0</td>\n",
       "      <td>167.7</td>\n",
       "      <td>160.3</td>\n",
       "      <td>162.1</td>\n",
       "      <td>-0.076</td>\n",
       "      <td>41.9</td>\n",
       "      <td>71.35</td>\n",
       "      <td>51.65</td>\n",
       "      <td>63.75</td>\n",
       "      <td>...</td>\n",
       "      <td>4.02</td>\n",
       "      <td>4.72</td>\n",
       "      <td>26.0</td>\n",
       "      <td>70.827</td>\n",
       "      <td>237.0</td>\n",
       "      <td>3.0</td>\n",
       "      <td>NaN</td>\n",
       "      <td>4.0</td>\n",
       "      <td>1.0</td>\n",
       "      <td>5.0</td>\n",
       "    </tr>\n",
       "    <tr>\n",
       "      <th>8</th>\n",
       "      <td>Jason Dufner</td>\n",
       "      <td>164.2</td>\n",
       "      <td>161.4</td>\n",
       "      <td>162.8</td>\n",
       "      <td>162.9</td>\n",
       "      <td>-0.046</td>\n",
       "      <td>39.5</td>\n",
       "      <td>77.43</td>\n",
       "      <td>51.89</td>\n",
       "      <td>67.83</td>\n",
       "      <td>...</td>\n",
       "      <td>4.04</td>\n",
       "      <td>4.71</td>\n",
       "      <td>22.0</td>\n",
       "      <td>71.159</td>\n",
       "      <td>202.0</td>\n",
       "      <td>5.0</td>\n",
       "      <td>NaN</td>\n",
       "      <td>0.0</td>\n",
       "      <td>0.0</td>\n",
       "      <td>3.0</td>\n",
       "    </tr>\n",
       "    <tr>\n",
       "      <th>9</th>\n",
       "      <td>Roger Sloan</td>\n",
       "      <td>164.2</td>\n",
       "      <td>164.2</td>\n",
       "      <td>156.2</td>\n",
       "      <td>159.0</td>\n",
       "      <td>-0.068</td>\n",
       "      <td>56.3</td>\n",
       "      <td>75.48</td>\n",
       "      <td>53.69</td>\n",
       "      <td>65.58</td>\n",
       "      <td>...</td>\n",
       "      <td>4.03</td>\n",
       "      <td>4.64</td>\n",
       "      <td>17.0</td>\n",
       "      <td>71.586</td>\n",
       "      <td>174.0</td>\n",
       "      <td>7.0</td>\n",
       "      <td>2.0</td>\n",
       "      <td>0.0</td>\n",
       "      <td>0.0</td>\n",
       "      <td>4.0</td>\n",
       "    </tr>\n",
       "  </tbody>\n",
       "</table>\n",
       "<p>10 rows × 73 columns</p>\n",
       "</div>"
      ],
      "text/plain": [
       "          PLAYER NAME  AVG_APPROACH_BIRDIE_OR_BETTER  \\\n",
       "0           Zac Blair                          152.9   \n",
       "1        Jimmy Walker                          156.9   \n",
       "2       Cameron Percy                          161.3   \n",
       "3  Sebastian Cappelen                          161.7   \n",
       "4           Brian Gay                          162.3   \n",
       "5     Ted Potter, Jr.                          162.7   \n",
       "6         Arjun Atwal                          162.9   \n",
       "7       Vaughn Taylor                          163.0   \n",
       "8        Jason Dufner                          164.2   \n",
       "9         Roger Sloan                          164.2   \n",
       "\n",
       "   AVG_APPROACH_BOGEY_OR_WORSE  AVG_APPROACH_PAR  AVG_APPROACH_SHOT_DISTANCE  \\\n",
       "0                        158.9             158.5                       157.5   \n",
       "1                        166.8             160.3                       161.0   \n",
       "2                        164.0             161.6                       161.9   \n",
       "3                        161.1             153.6                       156.4   \n",
       "4                        159.8             156.1                       158.0   \n",
       "5                        166.2             156.2                       159.2   \n",
       "6                        163.0             156.3                       158.7   \n",
       "7                        167.7             160.3                       162.1   \n",
       "8                        161.4             162.8                       162.9   \n",
       "9                        164.2             156.2                       159.0   \n",
       "\n",
       "   FAIRWAY_APPROACH_RTP  GIR_PCT_FAIRWAY_BUNKER  GIR_PCT_FAIRWAY  \\\n",
       "0                -0.034                    39.5            74.74   \n",
       "1                -0.033                    57.8            78.74   \n",
       "2                -0.104                    58.1            79.36   \n",
       "3                -0.065                    43.2            77.04   \n",
       "4                -0.065                    49.1            76.60   \n",
       "5                -0.056                    58.3            76.41   \n",
       "6                -0.022                    45.5            73.96   \n",
       "7                -0.076                    41.9            71.35   \n",
       "8                -0.046                    39.5            77.43   \n",
       "9                -0.068                    56.3            75.48   \n",
       "\n",
       "   GIR_PCT_OTHER  GIR_PCT_OVERALL  ...  SCORING_PAR4_AVERAGE  \\\n",
       "0          51.59            63.47  ...                  4.07   \n",
       "1          50.88            62.20  ...                  4.11   \n",
       "2          58.75            69.63  ...                  3.98   \n",
       "3          54.97            64.36  ...                  4.04   \n",
       "4          54.40            64.81  ...                  4.01   \n",
       "5          58.68            68.94  ...                  4.02   \n",
       "6          57.24            66.49  ...                  4.01   \n",
       "7          51.65            63.75  ...                  4.02   \n",
       "8          51.89            67.83  ...                  4.04   \n",
       "9          53.69            65.58  ...                  4.03   \n",
       "\n",
       "   SCORING_PAR5_AVERAGE  SCORING_ROUNDS_IN_60S  SCORING_AVG_OVERALL  \\\n",
       "0                  4.65                   25.0               71.705   \n",
       "1                  4.74                   10.0               71.927   \n",
       "2                  4.62                   17.0               71.073   \n",
       "3                  4.73                   12.0               72.106   \n",
       "4                  4.72                   24.0               71.407   \n",
       "5                  4.74                   14.0               71.877   \n",
       "6                  4.68                   12.0               71.867   \n",
       "7                  4.72                   26.0               70.827   \n",
       "8                  4.71                   22.0               71.159   \n",
       "9                  4.64                   17.0               71.586   \n",
       "\n",
       "   SCORING_TOTAL_BIRDIES  SCORING_TOTAL_EAGLES  STREAKS_CUTS_MADE  \\\n",
       "0                  240.0                   1.0                NaN   \n",
       "1                  159.0                   4.0                NaN   \n",
       "2                  160.0                   6.0                NaN   \n",
       "3                  186.0                   5.0                NaN   \n",
       "4                  245.0                   5.0                NaN   \n",
       "5                  152.0                   3.0                NaN   \n",
       "6                  107.0                   5.0                NaN   \n",
       "7                  237.0                   3.0                NaN   \n",
       "8                  202.0                   5.0                NaN   \n",
       "9                  174.0                   7.0                2.0   \n",
       "\n",
       "   STREAKS_FIRS_MADE  STREAKS_GIRS_MADE  STREAKS_HOLES_UNDER_PAR  \n",
       "0                0.0                0.0                      3.0  \n",
       "1                3.0                0.0                      3.0  \n",
       "2                3.0                7.0                      3.0  \n",
       "3                0.0                0.0                      5.0  \n",
       "4                0.0                1.0                      5.0  \n",
       "5                8.0                0.0                      3.0  \n",
       "6                0.0                7.0                      3.0  \n",
       "7                4.0                1.0                      5.0  \n",
       "8                0.0                0.0                      3.0  \n",
       "9                0.0                0.0                      4.0  \n",
       "\n",
       "[10 rows x 73 columns]"
      ]
     },
     "execution_count": 4,
     "metadata": {},
     "output_type": "execute_result"
    }
   ],
   "source": [
    "df = pd.read_csv(\"pga_tour_stats_2020.csv\")\n",
    "df.head(10)"
   ]
  },
  {
   "cell_type": "code",
   "execution_count": 5,
   "id": "c87b9590",
   "metadata": {},
   "outputs": [
    {
     "name": "stdout",
     "output_type": "stream",
     "text": [
      "            PLAYER NAME  FINISHES_TOP10 FINISHES_OFFICIAL_MONEY  \\\n",
      "0             Zac Blair             1.0               $745,273    \n",
      "1          Jimmy Walker             NaN               $243,370    \n",
      "2         Cameron Percy             1.0               $470,679    \n",
      "3    Sebastian Cappelen             1.0               $371,482    \n",
      "4             Brian Gay             2.0               $702,647    \n",
      "..                  ...             ...                     ...   \n",
      "352    Patrick Fishburn             NaN                     NaN   \n",
      "353       Chip McDaniel             NaN                     NaN   \n",
      "354        Roberto Díaz             NaN                     NaN   \n",
      "355         Peter Kuest             NaN                     NaN   \n",
      "356          Jay McLuen             NaN                     NaN   \n",
      "\n",
      "     TEE_AVG_DRIVING_DISTANCE  PUTTING_AVG_OVERALL  \n",
      "0                       280.9                1.589  \n",
      "1                       298.0                1.627  \n",
      "2                       295.0                1.638  \n",
      "3                       303.7                1.609  \n",
      "4                       288.5                1.586  \n",
      "..                        ...                  ...  \n",
      "352                       NaN                  NaN  \n",
      "353                       NaN                  NaN  \n",
      "354                       NaN                  NaN  \n",
      "355                       NaN                  NaN  \n",
      "356                       NaN                  NaN  \n",
      "\n",
      "[357 rows x 5 columns]\n"
     ]
    }
   ],
   "source": [
    "##Show specific columns in relation to driving, putting, top 10 finishes and money earned\n",
    "##Trimming data columns down to only show these 5 columns as I do not care about any of the other columns...\n",
    "##...in relation to my hypothesis of 'do the top drivers or the top putters make the most money'\n",
    "print(df[['PLAYER NAME','FINISHES_TOP10','FINISHES_OFFICIAL_MONEY','TEE_AVG_DRIVING_DISTANCE','PUTTING_AVG_OVERALL']])"
   ]
  },
  {
   "cell_type": "code",
   "execution_count": 6,
   "id": "2ba8970e",
   "metadata": {},
   "outputs": [
    {
     "data": {
      "text/plain": [
       "array([[<AxesSubplot:title={'center':'FINISHES_TOP10'}>,\n",
       "        <AxesSubplot:title={'center':'TEE_AVG_DRIVING_DISTANCE'}>],\n",
       "       [<AxesSubplot:title={'center':'PUTTING_AVG_OVERALL'}>,\n",
       "        <AxesSubplot:>]], dtype=object)"
      ]
     },
     "execution_count": 6,
     "metadata": {},
     "output_type": "execute_result"
    },
    {
     "data": {
      "image/png": "[encoded data removed]",
      "text/plain": [
       "<Figure size 432x288 with 4 Axes>"
      ]
     },
     "metadata": {
      "needs_background": "light"
     },
     "output_type": "display_data"
    }
   ],
   "source": [
    "##Create potential visualizations \n",
    "\n",
    "df.hist(['FINISHES_TOP10','FINISHES_OFFICIAL_MONEY','TEE_AVG_DRIVING_DISTANCE','PUTTING_AVG_OVERALL'])"
   ]
  },
  {
   "cell_type": "code",
   "execution_count": 7,
   "id": "467bb142",
   "metadata": {},
   "outputs": [
    {
     "data": {
      "text/plain": [
       "2.4237288135593222"
      ]
     },
     "execution_count": 7,
     "metadata": {},
     "output_type": "execute_result"
    }
   ],
   "source": [
    "##show averages for 4 main topics withholding FINISHES_OFFICIAL_MONEY as we do not care about that yet\n",
    "df['FINISHES_TOP10'].mean()"
   ]
  },
  {
   "cell_type": "code",
   "execution_count": 8,
   "id": "21e90cb1",
   "metadata": {},
   "outputs": [
    {
     "data": {
      "text/plain": [
       "296.3687500000001"
      ]
     },
     "execution_count": 8,
     "metadata": {},
     "output_type": "execute_result"
    }
   ],
   "source": [
    "##show averages\n",
    "df['TEE_AVG_DRIVING_DISTANCE'].mean()"
   ]
  },
  {
   "cell_type": "code",
   "execution_count": 9,
   "id": "ee0ef2d6",
   "metadata": {},
   "outputs": [
    {
     "data": {
      "text/plain": [
       "1.6105865384615377"
      ]
     },
     "execution_count": 9,
     "metadata": {},
     "output_type": "execute_result"
    }
   ],
   "source": [
    "##show averages\n",
    "df['PUTTING_AVG_OVERALL'].mean()"
   ]
  },
  {
   "cell_type": "code",
   "execution_count": 10,
   "id": "ac1a8d8e",
   "metadata": {},
   "outputs": [],
   "source": [
    "##Distribution graphs to help assist in visualization of which columns are necessary and why certain columns were trimmed\n",
    "def plotPerColumnDistribution(df, nGraphShown, nGraphPerRow):\n",
    "    nunique = df.nunique()\n",
    "    df = df[[col for col in df if nunique[col] > 1 and nunique[col] < 50]]##Display presentation between 1 & 50\n",
    "    nRow, nCol = df.shape\n",
    "    columnNames = list(df)\n",
    "    nGraphRow = (nCol + nGraphPerRow - 1) / nGraphPerRow\n",
    "    plt.figure(num = None, figsize = (6 * nGraphPerRow, 8 * nGraphRow), dpi = 80, facecolor = 'w', edgecolor = 'k')\n",
    "    for i in range(min(nCol, nGraphShown)):\n",
    "        plt.subplot(nGraphRow, nGraphPerRow, i + 1)\n",
    "        columnDf = df.iloc[:, i]\n",
    "        if (not np.issubdtype(type(columnDf.iloc[0]), np.number)):\n",
    "            valueCounts = columnDf.value_counts()\n",
    "            valueCounts.plot.bar()\n",
    "        else:\n",
    "            columnDf.hist()\n",
    "        plt.ylabel('counts')\n",
    "        plt.xticks(rotation = 90)\n",
    "        plt.title(f'{columnNames[i]} (column {i})')\n",
    "    plt.tight_layout(pad = 1.0, w_pad = 1.0, h_pad = 1.0)\n",
    "plt.show()"
   ]
  },
  {
   "cell_type": "code",
   "execution_count": 11,
   "id": "092dec34",
   "metadata": {},
   "outputs": [
    {
     "name": "stderr",
     "output_type": "stream",
     "text": [
      "<ipython-input-10-e5dd31274b34>:10: MatplotlibDeprecationWarning: Passing non-integers as three-element position specification is deprecated since 3.3 and will be removed two minor releases later.\n",
      "  plt.subplot(nGraphRow, nGraphPerRow, i + 1)\n",
      "<ipython-input-10-e5dd31274b34>:10: MatplotlibDeprecationWarning: Passing non-integers as three-element position specification is deprecated since 3.3 and will be removed two minor releases later.\n",
      "  plt.subplot(nGraphRow, nGraphPerRow, i + 1)\n",
      "<ipython-input-10-e5dd31274b34>:10: MatplotlibDeprecationWarning: Passing non-integers as three-element position specification is deprecated since 3.3 and will be removed two minor releases later.\n",
      "  plt.subplot(nGraphRow, nGraphPerRow, i + 1)\n"
     ]
    },
    {
     "data": {
      "image/png": "[encoded data removed]",
      "text/plain": [
       "<Figure size 2400x2432 with 10 Axes>"
      ]
     },
     "metadata": {},
     "output_type": "display_data"
    }
   ],
   "source": [
    "plotPerColumnDistribution(df, 10, 5)"
   ]
  },
  {
   "cell_type": "code",
   "execution_count": 12,
   "id": "94b0f195",
   "metadata": {},
   "outputs": [
    {
     "name": "stdout",
     "output_type": "stream",
     "text": [
      "Describe Data\n",
      "       AVG_APPROACH_BIRDIE_OR_BETTER  AVG_APPROACH_BOGEY_OR_WORSE  \\\n",
      "count                     208.000000                   208.000000   \n",
      "mean                      175.308173                   163.554327   \n",
      "std                         6.215221                     5.282318   \n",
      "min                       152.900000                   146.600000   \n",
      "25%                       171.475000                   160.100000   \n",
      "50%                       175.900000                   164.050000   \n",
      "75%                       179.400000                   167.625000   \n",
      "max                       189.500000                   176.400000   \n",
      "\n",
      "       AVG_APPROACH_PAR  AVG_APPROACH_SHOT_DISTANCE  FAIRWAY_APPROACH_RTP  \\\n",
      "count        208.000000                  208.000000            208.000000   \n",
      "mean         161.907212                  165.028846             -0.098341   \n",
      "std            3.182591                    3.200956              0.035058   \n",
      "min          148.700000                  154.800000             -0.205000   \n",
      "25%          159.900000                  163.200000             -0.119250   \n",
      "50%          162.450000                  165.600000             -0.100000   \n",
      "75%          164.100000                  167.125000             -0.077000   \n",
      "max          168.800000                  172.600000              0.034000   \n",
      "\n",
      "       GIR_PCT_FAIRWAY_BUNKER  GIR_PCT_FAIRWAY  GIR_PCT_OTHER  \\\n",
      "count              208.000000       208.000000     208.000000   \n",
      "mean                48.938942        78.128558      53.015577   \n",
      "std                  9.174638         2.762681       3.539991   \n",
      "min                 29.000000        64.310000      43.240000   \n",
      "25%                 40.725000        76.630000      50.797500   \n",
      "50%                 49.150000        78.360000      53.460000   \n",
      "75%                 55.450000        79.807500      55.460000   \n",
      "max                 72.700000        85.330000      60.170000   \n",
      "\n",
      "       GIR_PCT_OVERALL  GIR_PCT_100-125  ...  SCORING_PAR4_AVERAGE  \\\n",
      "count       208.000000       208.000000  ...            208.000000   \n",
      "mean         67.054279        75.863029  ...              4.015288   \n",
      "std           2.569055         5.195936  ...              0.040586   \n",
      "min          52.050000        52.810000  ...              3.890000   \n",
      "25%          65.295000        72.422500  ...              3.990000   \n",
      "50%          67.195000        75.620000  ...              4.010000   \n",
      "75%          68.545000        79.340000  ...              4.040000   \n",
      "max          74.220000        86.900000  ...              4.240000   \n",
      "\n",
      "       SCORING_PAR5_AVERAGE  SCORING_ROUNDS_IN_60S  SCORING_AVG_OVERALL  \\\n",
      "count            208.000000             208.000000           208.000000   \n",
      "mean               4.638798              25.658654            70.874928   \n",
      "std                0.067265               8.981668             0.765909   \n",
      "min                4.450000               2.000000            68.978000   \n",
      "25%                4.600000              18.750000            70.388000   \n",
      "50%                4.640000              25.000000            70.833500   \n",
      "75%                4.680000              33.000000            71.306250   \n",
      "max                4.800000              47.000000            74.865000   \n",
      "\n",
      "       SCORING_TOTAL_BIRDIES  SCORING_TOTAL_EAGLES  STREAKS_CUTS_MADE  \\\n",
      "count             208.000000            208.000000         135.000000   \n",
      "mean              224.802885              5.370192           3.814815   \n",
      "std                57.045067              3.009241           2.589258   \n",
      "min               107.000000              1.000000           2.000000   \n",
      "25%               177.750000              3.000000           2.000000   \n",
      "50%               229.000000              5.000000           3.000000   \n",
      "75%               265.250000              7.000000           5.000000   \n",
      "max               390.000000             16.000000          19.000000   \n",
      "\n",
      "       STREAKS_FIRS_MADE  STREAKS_GIRS_MADE  STREAKS_HOLES_UNDER_PAR  \n",
      "count         356.000000         356.000000               356.000000  \n",
      "mean            1.553371           1.601124                 3.561798  \n",
      "std             2.217717           2.086415                 1.207536  \n",
      "min             0.000000           0.000000                 1.000000  \n",
      "25%             0.000000           0.000000                 3.000000  \n",
      "50%             1.000000           1.000000                 4.000000  \n",
      "75%             2.000000           2.000000                 4.000000  \n",
      "max            15.000000          11.000000                 9.000000  \n",
      "\n",
      "[8 rows x 64 columns]\n",
      "Summarized Data\n",
      "         PLAYER NAME FINISHES_OFFICIAL_MONEY  \\\n",
      "count            357                     269   \n",
      "unique           342                     253   \n",
      "top     Zach Johnson               $777,727    \n",
      "freq              16                      16   \n",
      "\n",
      "       FINISHES_OFFICIAL_UNOFFICIAL_MONEY TEE_AVG_APEX  \\\n",
      "count                                 357          208   \n",
      "unique                                331          158   \n",
      "top                             $777,727      101' 10\"   \n",
      "freq                                   16           17   \n",
      "\n",
      "       TEE_AVG_DISTANCE_FROM_CENTER_FR PUTTING_APPROACH_PERFORMANCE  \\\n",
      "count                              208                          208   \n",
      "unique                              64                           10   \n",
      "top                            22' 11\"                        2' 2\"   \n",
      "freq                                17                           42   \n",
      "\n",
      "       PUTTING_AVG_DIST_BIRDIE PUTTING_AVG_DIST_EAGLE PUTTING_AVG_DIST_MADE  \n",
      "count                      208                    189                   208  \n",
      "unique                      45                    137                   129  \n",
      "top                     10' 1\"                 14' 7\"                74' 6\"  \n",
      "freq                        21                     18                    16  \n"
     ]
    }
   ],
   "source": [
    "##View variables\n",
    "print(\"Describe Data\")\n",
    "print(df.describe())\n",
    "print(\"Summarized Data\")\n",
    "print(df.describe(include=['O']))"
   ]
  },
  {
   "cell_type": "code",
   "execution_count": 13,
   "id": "e198638b",
   "metadata": {},
   "outputs": [],
   "source": [
    "##Import visulization packages\n",
    "import matplotlib.pyplot as plt"
   ]
  },
  {
   "cell_type": "code",
   "execution_count": 14,
   "id": "ec377414",
   "metadata": {},
   "outputs": [],
   "source": [
    "##Set up figsize\n",
    "%matplotlib inline\n",
    "plt.rcParams['figure.figsize'] = (20, 10)"
   ]
  },
  {
   "cell_type": "code",
   "execution_count": 29,
   "id": "aead56f0",
   "metadata": {},
   "outputs": [
    {
     "data": {
      "text/plain": [
       "<matplotlib.collections.PathCollection at 0x19400408b80>"
      ]
     },
     "execution_count": 29,
     "metadata": {},
     "output_type": "execute_result"
    },
    {
     "data": {
      "image/png": "[encoded data removed]",
      "text/plain": [
       "<Figure size 432x288 with 1 Axes>"
      ]
     },
     "metadata": {
      "needs_background": "light"
     },
     "output_type": "display_data"
    }
   ],
   "source": [
    "##setting up linear regression for driving distance analysis\n",
    "import numpy as np\n",
    "from sklearn import linear_model\n",
    "%matplotlib inline\n",
    "##Linear regression formual is y = mx+b\n",
    "##Avg drive 296.3687500000001\n",
    "\n",
    "##set up data for viewing\n",
    "plt.xlabel('TEE_AVG_DRIVING_DISTANCE')\n",
    "plt.ylabel('FINISHES_TOP10')\n",
    "plt.scatter(df.TEE_AVG_DRIVING_DISTANCE, df.FINISHES_TOP10, color='red', marker='+')"
   ]
  },
  {
   "cell_type": "code",
   "execution_count": 35,
   "id": "61f6a55b",
   "metadata": {},
   "outputs": [
    {
     "data": {
      "text/plain": [
       "LinearRegression()"
      ]
     },
     "execution_count": 35,
     "metadata": {},
     "output_type": "execute_result"
    }
   ],
   "source": [
    "##training linear model \n",
    "df.replace([np.inf, -np.inf], np.nan, inplace=True)\n",
    "df.fillna(999, inplace=True)\n",
    "reg = linear_model.LinearRegression()\n",
    "reg.fit(df[['FINISHES_TOP10']],df.TEE_AVG_DRIVING_DISTANCE)"
   ]
  },
  {
   "cell_type": "code",
   "execution_count": 40,
   "id": "124283ca",
   "metadata": {},
   "outputs": [
    {
     "data": {
      "text/plain": [
       "array([0.48807056])"
      ]
     },
     "execution_count": 40,
     "metadata": {},
     "output_type": "execute_result"
    }
   ],
   "source": [
    "##Value of M or top 10 finishes \n",
    "reg.coef_"
   ]
  },
  {
   "cell_type": "code",
   "execution_count": 41,
   "id": "5d50f476",
   "metadata": {},
   "outputs": [
    {
     "data": {
      "text/plain": [
       "343.1973940424172"
      ]
     },
     "execution_count": 41,
     "metadata": {},
     "output_type": "execute_result"
    }
   ],
   "source": [
    "##Value of B or average top 10 driving distance\n",
    "reg.intercept_"
   ]
  },
  {
   "cell_type": "code",
   "execution_count": null,
   "id": "56cb6cf0",
   "metadata": {},
   "outputs": [],
   "source": [
    "## the top 10 drivers avg a distance of 343.19 yards off the tee"
   ]
  },
  {
   "cell_type": "code",
   "execution_count": 42,
   "id": "fba59116",
   "metadata": {},
   "outputs": [
    {
     "data": {
      "text/plain": [
       "<matplotlib.collections.PathCollection at 0x194004e6070>"
      ]
     },
     "execution_count": 42,
     "metadata": {},
     "output_type": "execute_result"
    },
    {
     "data": {
      "image/png": "[encoded data removed]",
      "text/plain": [
       "<Figure size 432x288 with 1 Axes>"
      ]
     },
     "metadata": {
      "needs_background": "light"
     },
     "output_type": "display_data"
    }
   ],
   "source": [
    "##setting up linear regression for driving distance analysis\n",
    "import numpy as np\n",
    "from sklearn import linear_model\n",
    "%matplotlib inline\n",
    "##Linear regression formual is y = mx+b\n",
    "##Avg drive 296.3687500000001\n",
    "\n",
    "##set up data for viewing\n",
    "plt.xlabel('PUTTING_AVG_OVERALL')\n",
    "plt.ylabel('FINISHES_TOP10')\n",
    "plt.scatter(df.PUTTING_AVG_OVERALL, df.FINISHES_TOP10, color='red', marker='+')"
   ]
  },
  {
   "cell_type": "code",
   "execution_count": 43,
   "id": "bf7c0201",
   "metadata": {},
   "outputs": [
    {
     "data": {
      "text/plain": [
       "LinearRegression()"
      ]
     },
     "execution_count": 43,
     "metadata": {},
     "output_type": "execute_result"
    }
   ],
   "source": [
    "##training linear model \n",
    "##data set not really equipped for linear regression for putting avg will need to find better model to use \n",
    "df.replace([np.inf, -np.inf], np.nan, inplace=True)\n",
    "df.fillna(999, inplace=True)\n",
    "reg = linear_model.LinearRegression()\n",
    "reg.fit(df[['FINISHES_TOP10']],df.PUTTING_AVG_OVERALL)"
   ]
  },
  {
   "cell_type": "code",
   "execution_count": 44,
   "id": "f4bcdb78",
   "metadata": {},
   "outputs": [
    {
     "data": {
      "text/plain": [
       "array([0.69372458])"
      ]
     },
     "execution_count": 44,
     "metadata": {},
     "output_type": "execute_result"
    }
   ],
   "source": [
    "##Value of M or top 10 finishes \n",
    "reg.coef_"
   ]
  },
  {
   "cell_type": "code",
   "execution_count": 45,
   "id": "8dbed650",
   "metadata": {},
   "outputs": [
    {
     "data": {
      "text/plain": [
       "67.62700344940788"
      ]
     },
     "execution_count": 45,
     "metadata": {},
     "output_type": "execute_result"
    }
   ],
   "source": [
    "##Value of B or PUTTING_AVG_OVERALL\n",
    "reg.intercept_"
   ]
  },
  {
   "cell_type": "code",
   "execution_count": null,
   "id": "02386c21",
   "metadata": {},
   "outputs": [],
   "source": [
    "##the top 10 drivers avg 67 putts per tournament"
   ]
  }
 ],
 "metadata": {
  "kernelspec": {
   "display_name": "Python 3",
   "language": "python",
   "name": "python3"
  },
  "language_info": {
   "codemirror_mode": {
    "name": "ipython",
    "version": 3
   },
   "file_extension": ".py",
   "mimetype": "text/x-python",
   "name": "python",
   "nbconvert_exporter": "python",
   "pygments_lexer": "ipython3",
   "version": "3.8.8"
  }
 },
 "nbformat": 4,
 "nbformat_minor": 5
}
