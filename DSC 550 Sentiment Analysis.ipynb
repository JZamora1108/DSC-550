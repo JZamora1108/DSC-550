{
 "cells": [
  {
   "cell_type": "code",
   "execution_count": 17,
   "id": "70f7bb3c",
   "metadata": {},
   "outputs": [
    {
     "name": "stdout",
     "output_type": "stream",
     "text": [
      "Collecting textblob\n",
      "  Downloading textblob-0.15.3-py2.py3-none-any.whl (636 kB)\n",
      "Requirement already satisfied: nltk>=3.1 in c:\\users\\14029\\anaconda3\\lib\\site-packages (from textblob) (3.6.1)\n",
      "Requirement already satisfied: tqdm in c:\\users\\14029\\anaconda3\\lib\\site-packages (from nltk>=3.1->textblob) (4.59.0)\n",
      "Requirement already satisfied: joblib in c:\\users\\14029\\anaconda3\\lib\\site-packages (from nltk>=3.1->textblob) (1.0.1)\n",
      "Requirement already satisfied: regex in c:\\users\\14029\\anaconda3\\lib\\site-packages (from nltk>=3.1->textblob) (2021.4.4)\n",
      "Requirement already satisfied: click in c:\\users\\14029\\anaconda3\\lib\\site-packages (from nltk>=3.1->textblob) (7.1.2)\n",
      "Installing collected packages: textblob\n",
      "Successfully installed textblob-0.15.3\n"
     ]
    },
    {
     "data": {
      "text/plain": [
       "'C:\\\\Users\\\\14029'"
      ]
     },
     "execution_count": 17,
     "metadata": {},
     "output_type": "execute_result"
    }
   ],
   "source": [
    "import numpy as np \n",
    "import pandas as pd \n",
    "!pip install textblob\n",
    "import textblob\n",
    "from textblob import TextBlob\n",
    "\n",
    "os.getcwd()"
   ]
  },
  {
   "cell_type": "code",
   "execution_count": 7,
   "id": "9a023612",
   "metadata": {},
   "outputs": [
    {
     "data": {
      "text/html": [
       "<div>\n",
       "<style scoped>\n",
       "    .dataframe tbody tr th:only-of-type {\n",
       "        vertical-align: middle;\n",
       "    }\n",
       "\n",
       "    .dataframe tbody tr th {\n",
       "        vertical-align: top;\n",
       "    }\n",
       "\n",
       "    .dataframe thead th {\n",
       "        text-align: right;\n",
       "    }\n",
       "</style>\n",
       "<table border=\"1\" class=\"dataframe\">\n",
       "  <thead>\n",
       "    <tr style=\"text-align: right;\">\n",
       "      <th></th>\n",
       "      <th>Day of Week</th>\n",
       "      <th>comments</th>\n",
       "    </tr>\n",
       "  </thead>\n",
       "  <tbody>\n",
       "    <tr>\n",
       "      <th>0</th>\n",
       "      <td>Monday</td>\n",
       "      <td>Hello, how are you?</td>\n",
       "    </tr>\n",
       "    <tr>\n",
       "      <th>1</th>\n",
       "      <td>Tuesday</td>\n",
       "      <td>Today is a good day!</td>\n",
       "    </tr>\n",
       "    <tr>\n",
       "      <th>2</th>\n",
       "      <td>Wednesday</td>\n",
       "      <td>It's my birthday so it's a really special day!</td>\n",
       "    </tr>\n",
       "    <tr>\n",
       "      <th>3</th>\n",
       "      <td>Thursday</td>\n",
       "      <td>Today is neither a good day or a bad day!</td>\n",
       "    </tr>\n",
       "    <tr>\n",
       "      <th>4</th>\n",
       "      <td>Friday</td>\n",
       "      <td>I'm having a bad day.</td>\n",
       "    </tr>\n",
       "    <tr>\n",
       "      <th>5</th>\n",
       "      <td>Saturday</td>\n",
       "      <td>There' s nothing special happening today.</td>\n",
       "    </tr>\n",
       "    <tr>\n",
       "      <th>6</th>\n",
       "      <td>Sunday</td>\n",
       "      <td>Today is a SUPER good day!</td>\n",
       "    </tr>\n",
       "  </tbody>\n",
       "</table>\n",
       "</div>"
      ],
      "text/plain": [
       "  Day of Week                                        comments\n",
       "0  Monday      Hello, how are you?                           \n",
       "1  Tuesday     Today is a good day!                          \n",
       "2  Wednesday   It's my birthday so it's a really special day!\n",
       "3  Thursday    Today is neither a good day or a bad day!     \n",
       "4  Friday      I'm having a bad day.                         \n",
       "5  Saturday    There' s nothing special happening today.     \n",
       "6  Sunday      Today is a SUPER good day!                    "
      ]
     },
     "execution_count": 7,
     "metadata": {},
     "output_type": "execute_result"
    }
   ],
   "source": [
    "df = pd.read_csv('DailyComments.csv')\n",
    "\n",
    "df.head(10)"
   ]
  },
  {
   "cell_type": "code",
   "execution_count": 44,
   "id": "252a7a90",
   "metadata": {
    "scrolled": true
   },
   "outputs": [],
   "source": [
    "##chose text blob for scheme as it seemed to be the most popular with the most available examples\n",
    "\n",
    "def get_sentimentScores(df,text_col):\n",
    "    polarity_vals = []\n",
    "    subjectivity_vals = []\n",
    "    for text in df[text_col]:\n",
    "        blob_text = TextBlob(text)\n",
    "        sent_values = blob_text.sentiment\n",
    "       \n",
    "        polarity = sent_values[0]\n",
    "        subjectivity = sent_values[1]\n",
    "\n",
    "        polarity_vals.append(polarity)\n",
    "        subjectivity_vals.append(subjectivity)\n",
    "   \n",
    "    #create new columns in df for scores\n",
    "    df['Polarity'] = polarity_vals\n",
    "    df['Subjectivity'] = subjectivity_vals\n",
    "   \n",
    "    #return new df\n",
    "    return df"
   ]
  },
  {
   "cell_type": "code",
   "execution_count": 47,
   "id": "22e08f4d",
   "metadata": {},
   "outputs": [
    {
     "name": "stdout",
     "output_type": "stream",
     "text": [
      "  Day of Week                                        comments  Polarity  \\\n",
      "0  Monday      Hello, how are you?                             0.000000   \n",
      "1  Tuesday     Today is a good day!                            0.875000   \n",
      "2  Wednesday   It's my birthday so it's a really special day!  0.446429   \n",
      "3  Thursday    Today is neither a good day or a bad day!      -0.087500   \n",
      "4  Friday      I'm having a bad day.                          -0.700000   \n",
      "5  Saturday    There' s nothing special happening today.       0.357143   \n",
      "6  Sunday      Today is a SUPER good day!                      0.604167   \n",
      "\n",
      "   Subjectivity  \n",
      "0  0.000000      \n",
      "1  0.600000      \n",
      "2  0.571429      \n",
      "3  0.633333      \n",
      "4  0.666667      \n",
      "5  0.571429      \n",
      "6  0.633333      \n"
     ]
    }
   ],
   "source": [
    "df = get_sentimentScores(df,'comments')\n",
    "\n",
    "print(df)\n",
    "\n",
    "##gave up on extra credit when hitting a wall with removing the # from tweets - I tried so hard though if that helps haha"
   ]
  }
 ],
 "metadata": {
  "kernelspec": {
   "display_name": "Python 3",
   "language": "python",
   "name": "python3"
  },
  "language_info": {
   "codemirror_mode": {
    "name": "ipython",
    "version": 3
   },
   "file_extension": ".py",
   "mimetype": "text/x-python",
   "name": "python",
   "nbconvert_exporter": "python",
   "pygments_lexer": "ipython3",
   "version": "3.8.8"
  }
 },
 "nbformat": 4,
 "nbformat_minor": 5
}
